{
 "cells": [
  {
   "cell_type": "code",
   "execution_count": 1,
   "id": "bea61500",
   "metadata": {},
   "outputs": [],
   "source": [
    "import re"
   ]
  },
  {
   "cell_type": "code",
   "execution_count": 2,
   "id": "769e1548",
   "metadata": {},
   "outputs": [],
   "source": [
    "# Найдем идентифиикаторы 'id' + оддна идии несколько цифр\n",
    "msg = 'В розыгрыше победилиЖ id1234563, id4653, id461, id'"
   ]
  },
  {
   "cell_type": "code",
   "execution_count": 4,
   "id": "fb413320",
   "metadata": {},
   "outputs": [
    {
     "data": {
      "text/plain": [
       "['id', 'id', 'id', 'id']"
      ]
     },
     "execution_count": 4,
     "metadata": {},
     "output_type": "execute_result"
    }
   ],
   "source": [
    "re.findall('id', msg)"
   ]
  },
  {
   "cell_type": "code",
   "execution_count": 5,
   "id": "2da87af5",
   "metadata": {},
   "outputs": [
    {
     "data": {
      "text/plain": [
       "['id1', 'id4', 'id4']"
      ]
     },
     "execution_count": 5,
     "metadata": {},
     "output_type": "execute_result"
    }
   ],
   "source": [
    "re.findall('id\\d', msg)"
   ]
  },
  {
   "cell_type": "code",
   "execution_count": 6,
   "id": "e076bcb0",
   "metadata": {},
   "outputs": [
    {
     "data": {
      "text/plain": [
       "['id1234563', 'id4653', 'id461', 'id']"
      ]
     },
     "execution_count": 6,
     "metadata": {},
     "output_type": "execute_result"
    }
   ],
   "source": [
    "re.findall('id\\d*', msg)"
   ]
  },
  {
   "cell_type": "code",
   "execution_count": 7,
   "id": "d42987db",
   "metadata": {},
   "outputs": [
    {
     "data": {
      "text/plain": [
       "['id1234563', 'id4653', 'id461']"
      ]
     },
     "execution_count": 7,
     "metadata": {},
     "output_type": "execute_result"
    }
   ],
   "source": [
    "re.findall('id\\d+', msg) # вариант"
   ]
  },
  {
   "cell_type": "code",
   "execution_count": null,
   "id": "b31b0daf",
   "metadata": {},
   "outputs": [],
   "source": []
  },
  {
   "cell_type": "code",
   "execution_count": 13,
   "id": "977141a7",
   "metadata": {},
   "outputs": [],
   "source": [
    "# Найдем хэштеги в твите\n",
    "tweet = 'когда #ливень, то бери #зонтик #4етыре'"
   ]
  },
  {
   "cell_type": "code",
   "execution_count": 14,
   "id": "cf7c7b58",
   "metadata": {},
   "outputs": [
    {
     "data": {
      "text/plain": [
       "['#', '#', '#']"
      ]
     },
     "execution_count": 14,
     "metadata": {},
     "output_type": "execute_result"
    }
   ],
   "source": [
    "re.findall('#', tweet)"
   ]
  },
  {
   "cell_type": "code",
   "execution_count": 15,
   "id": "aa919165",
   "metadata": {},
   "outputs": [
    {
     "data": {
      "text/plain": [
       "['#ливень', '#зонтик', '#4етыре']"
      ]
     },
     "execution_count": 15,
     "metadata": {},
     "output_type": "execute_result"
    }
   ],
   "source": [
    "re.findall('#\\w+', tweet)"
   ]
  },
  {
   "cell_type": "code",
   "execution_count": null,
   "id": "912ef50e",
   "metadata": {},
   "outputs": [],
   "source": []
  },
  {
   "cell_type": "code",
   "execution_count": 17,
   "id": "8aea8968",
   "metadata": {},
   "outputs": [],
   "source": [
    "from collections import Counter"
   ]
  },
  {
   "cell_type": "code",
   "execution_count": 18,
   "id": "7e15e391",
   "metadata": {},
   "outputs": [],
   "source": [
    "string = 'aa bb aa rr cc'"
   ]
  },
  {
   "cell_type": "code",
   "execution_count": 19,
   "id": "4995e9c6",
   "metadata": {},
   "outputs": [
    {
     "data": {
      "text/plain": [
       "Counter({'aa': 2, 'bb': 1, 'rr': 1, 'cc': 1})"
      ]
     },
     "execution_count": 19,
     "metadata": {},
     "output_type": "execute_result"
    }
   ],
   "source": [
    "Counter(string.split(' '))"
   ]
  },
  {
   "cell_type": "code",
   "execution_count": 25,
   "id": "f498beaa",
   "metadata": {},
   "outputs": [],
   "source": [
    "# Найти слова с языками программирования\n",
    "text = 'Определять проблемы и недостатки существующих систем, внедрять Python, Perl, R отказоустойчивые решения для систем сопоставления, ценообразования и геймификации.'"
   ]
  },
  {
   "cell_type": "code",
   "execution_count": 26,
   "id": "d011049c",
   "metadata": {},
   "outputs": [
    {
     "data": {
      "text/plain": [
       "['Python', 'Perl']"
      ]
     },
     "execution_count": 26,
     "metadata": {},
     "output_type": "execute_result"
    }
   ],
   "source": [
    "re.findall('P\\w+', text)"
   ]
  },
  {
   "cell_type": "code",
   "execution_count": 33,
   "id": "3a88aeab",
   "metadata": {},
   "outputs": [],
   "source": [
    "re.match('P\\w+', text)"
   ]
  },
  {
   "cell_type": "code",
   "execution_count": 34,
   "id": "8533ece0",
   "metadata": {},
   "outputs": [
    {
     "data": {
      "text/plain": [
       "63"
      ]
     },
     "execution_count": 34,
     "metadata": {},
     "output_type": "execute_result"
    }
   ],
   "source": [
    "text.find('Python')"
   ]
  },
  {
   "cell_type": "code",
   "execution_count": 28,
   "id": "3c4c4a56",
   "metadata": {},
   "outputs": [
    {
     "data": {
      "text/plain": [
       "<re.Match object; span=(63, 69), match='Python'>"
      ]
     },
     "execution_count": 28,
     "metadata": {},
     "output_type": "execute_result"
    }
   ],
   "source": [
    "re.search('P\\w+', text)"
   ]
  },
  {
   "cell_type": "code",
   "execution_count": 35,
   "id": "8cd42204",
   "metadata": {},
   "outputs": [
    {
     "data": {
      "text/plain": [
       "['Определять',\n",
       " 'проблемы',\n",
       " 'и',\n",
       " 'недостатки',\n",
       " 'существующих',\n",
       " 'систем',\n",
       " '',\n",
       " 'внедрять',\n",
       " 'Python',\n",
       " '',\n",
       " 'Perl',\n",
       " '',\n",
       " 'R',\n",
       " 'отказоустойчивые',\n",
       " 'решения',\n",
       " 'для',\n",
       " 'систем',\n",
       " 'сопоставления',\n",
       " '',\n",
       " 'ценообразования',\n",
       " 'и',\n",
       " 'геймификации',\n",
       " '']"
      ]
     },
     "execution_count": 35,
     "metadata": {},
     "output_type": "execute_result"
    }
   ],
   "source": [
    "re.split('\\W', text)"
   ]
  },
  {
   "cell_type": "code",
   "execution_count": null,
   "id": "336c4824",
   "metadata": {},
   "outputs": [],
   "source": []
  },
  {
   "cell_type": "code",
   "execution_count": 42,
   "id": "def38c7e",
   "metadata": {},
   "outputs": [],
   "source": [
    "# Необходимо из строки с условными датами вытащить их\n",
    "registration = 'Date of start: 4-12. Date of registration: 20-11'"
   ]
  },
  {
   "cell_type": "code",
   "execution_count": 44,
   "id": "38b1db7a",
   "metadata": {},
   "outputs": [
    {
     "data": {
      "text/plain": [
       "['4', '12', '20', '11']"
      ]
     },
     "execution_count": 44,
     "metadata": {},
     "output_type": "execute_result"
    }
   ],
   "source": [
    "re.findall('\\d{1,2}', registration)"
   ]
  },
  {
   "cell_type": "code",
   "execution_count": 45,
   "id": "ac345fdc",
   "metadata": {},
   "outputs": [
    {
     "data": {
      "text/plain": [
       "['4-12', '20-11']"
      ]
     },
     "execution_count": 45,
     "metadata": {},
     "output_type": "execute_result"
    }
   ],
   "source": [
    "re.findall('\\d{1,2}-\\d{1,2}', registration)"
   ]
  },
  {
   "cell_type": "code",
   "execution_count": null,
   "id": "2a89131b",
   "metadata": {},
   "outputs": [],
   "source": []
  },
  {
   "cell_type": "code",
   "execution_count": 52,
   "id": "07ed3e17",
   "metadata": {},
   "outputs": [],
   "source": [
    "# Phone numbers\n",
    "phone_numbers = 'Maria: 8-943-342-23-32 Alex: 8-323-432-23-67 Vic: +7-323-456-43-21'"
   ]
  },
  {
   "cell_type": "code",
   "execution_count": 55,
   "id": "adcf14e0",
   "metadata": {},
   "outputs": [
    {
     "data": {
      "text/plain": [
       "['8-943-342-23-32 ', '8-323-432-23-67 ', ' +7-323-456-43-21']"
      ]
     },
     "execution_count": 55,
     "metadata": {},
     "output_type": "execute_result"
    }
   ],
   "source": [
    "re.findall('\\d-\\d\\d\\d-\\d{3}-\\d{2}-\\d{2} | \\+7-\\d\\d\\d-\\d{3}-\\d{2}-\\d{2}', phone_numbers)"
   ]
  },
  {
   "cell_type": "code",
   "execution_count": 57,
   "id": "81809af0",
   "metadata": {},
   "outputs": [],
   "source": [
    "# Date validation\n",
    "date = 'some text 1st september 2019 07:25 some text'"
   ]
  },
  {
   "cell_type": "code",
   "execution_count": 58,
   "id": "ec0d3765",
   "metadata": {},
   "outputs": [
    {
     "data": {
      "text/plain": [
       "['st']"
      ]
     },
     "execution_count": 58,
     "metadata": {},
     "output_type": "execute_result"
    }
   ],
   "source": [
    "re.findall('\\d(st|nd|rd|th)', date)"
   ]
  },
  {
   "cell_type": "code",
   "execution_count": 64,
   "id": "e3cd51d2",
   "metadata": {},
   "outputs": [
    {
     "data": {
      "text/plain": [
       "['1st september 2019 07:25']"
      ]
     },
     "execution_count": 64,
     "metadata": {},
     "output_type": "execute_result"
    }
   ],
   "source": [
    "re.findall('\\d{1,2}\\w{2}\\s\\w+\\s\\d{4}\\s\\d\\d:\\d\\d', date)"
   ]
  },
  {
   "cell_type": "code",
   "execution_count": null,
   "id": "752c462d",
   "metadata": {},
   "outputs": [],
   "source": []
  },
  {
   "cell_type": "code",
   "execution_count": 68,
   "id": "a697a969",
   "metadata": {},
   "outputs": [],
   "source": [
    "from datetime import datetime"
   ]
  },
  {
   "cell_type": "code",
   "execution_count": 69,
   "id": "a1111c86",
   "metadata": {},
   "outputs": [
    {
     "ename": "ValueError",
     "evalue": "unconverted data remains: 1st september 2019 07:25",
     "output_type": "error",
     "traceback": [
      "\u001b[0;31m---------------------------------------------------------------------------\u001b[0m",
      "\u001b[0;31mValueError\u001b[0m                                Traceback (most recent call last)",
      "Cell \u001b[0;32mIn[69], line 1\u001b[0m\n\u001b[0;32m----> 1\u001b[0m datetime\u001b[38;5;241m.\u001b[39mstrptime(re\u001b[38;5;241m.\u001b[39mfindall(\u001b[38;5;124m'\u001b[39m\u001b[38;5;124m\\\u001b[39m\u001b[38;5;124md\u001b[39m\u001b[38;5;124m{\u001b[39m\u001b[38;5;124m1,2}\u001b[39m\u001b[38;5;124m\\\u001b[39m\u001b[38;5;124mw\u001b[39m\u001b[38;5;132;01m{2}\u001b[39;00m\u001b[38;5;124m\\\u001b[39m\u001b[38;5;124ms\u001b[39m\u001b[38;5;124m\\\u001b[39m\u001b[38;5;124mw+\u001b[39m\u001b[38;5;124m\\\u001b[39m\u001b[38;5;124ms\u001b[39m\u001b[38;5;124m\\\u001b[39m\u001b[38;5;124md\u001b[39m\u001b[38;5;132;01m{4}\u001b[39;00m\u001b[38;5;124m\\\u001b[39m\u001b[38;5;124ms\u001b[39m\u001b[38;5;124m\\\u001b[39m\u001b[38;5;124md\u001b[39m\u001b[38;5;124m\\\u001b[39m\u001b[38;5;124md:\u001b[39m\u001b[38;5;124m\\\u001b[39m\u001b[38;5;124md\u001b[39m\u001b[38;5;124m\\\u001b[39m\u001b[38;5;124md\u001b[39m\u001b[38;5;124m'\u001b[39m, date)[\u001b[38;5;241m0\u001b[39m], \u001b[38;5;124m'\u001b[39m\u001b[38;5;124m'\u001b[39m)\n",
      "File \u001b[0;32m~/anaconda3/lib/python3.11/_strptime.py:568\u001b[0m, in \u001b[0;36m_strptime_datetime\u001b[0;34m(cls, data_string, format)\u001b[0m\n\u001b[1;32m    565\u001b[0m \u001b[38;5;28;01mdef\u001b[39;00m \u001b[38;5;21m_strptime_datetime\u001b[39m(\u001b[38;5;28mcls\u001b[39m, data_string, \u001b[38;5;28mformat\u001b[39m\u001b[38;5;241m=\u001b[39m\u001b[38;5;124m\"\u001b[39m\u001b[38;5;132;01m%a\u001b[39;00m\u001b[38;5;124m \u001b[39m\u001b[38;5;124m%\u001b[39m\u001b[38;5;124mb \u001b[39m\u001b[38;5;132;01m%d\u001b[39;00m\u001b[38;5;124m \u001b[39m\u001b[38;5;124m%\u001b[39m\u001b[38;5;124mH:\u001b[39m\u001b[38;5;124m%\u001b[39m\u001b[38;5;124mM:\u001b[39m\u001b[38;5;124m%\u001b[39m\u001b[38;5;124mS \u001b[39m\u001b[38;5;124m%\u001b[39m\u001b[38;5;124mY\u001b[39m\u001b[38;5;124m\"\u001b[39m):\n\u001b[1;32m    566\u001b[0m \u001b[38;5;250m    \u001b[39m\u001b[38;5;124;03m\"\"\"Return a class cls instance based on the input string and the\u001b[39;00m\n\u001b[1;32m    567\u001b[0m \u001b[38;5;124;03m    format string.\"\"\"\u001b[39;00m\n\u001b[0;32m--> 568\u001b[0m     tt, fraction, gmtoff_fraction \u001b[38;5;241m=\u001b[39m _strptime(data_string, \u001b[38;5;28mformat\u001b[39m)\n\u001b[1;32m    569\u001b[0m     tzname, gmtoff \u001b[38;5;241m=\u001b[39m tt[\u001b[38;5;241m-\u001b[39m\u001b[38;5;241m2\u001b[39m:]\n\u001b[1;32m    570\u001b[0m     args \u001b[38;5;241m=\u001b[39m tt[:\u001b[38;5;241m6\u001b[39m] \u001b[38;5;241m+\u001b[39m (fraction,)\n",
      "File \u001b[0;32m~/anaconda3/lib/python3.11/_strptime.py:352\u001b[0m, in \u001b[0;36m_strptime\u001b[0;34m(data_string, format)\u001b[0m\n\u001b[1;32m    349\u001b[0m     \u001b[38;5;28;01mraise\u001b[39;00m \u001b[38;5;167;01mValueError\u001b[39;00m(\u001b[38;5;124m\"\u001b[39m\u001b[38;5;124mtime data \u001b[39m\u001b[38;5;132;01m%r\u001b[39;00m\u001b[38;5;124m does not match format \u001b[39m\u001b[38;5;132;01m%r\u001b[39;00m\u001b[38;5;124m\"\u001b[39m \u001b[38;5;241m%\u001b[39m\n\u001b[1;32m    350\u001b[0m                      (data_string, \u001b[38;5;28mformat\u001b[39m))\n\u001b[1;32m    351\u001b[0m \u001b[38;5;28;01mif\u001b[39;00m \u001b[38;5;28mlen\u001b[39m(data_string) \u001b[38;5;241m!=\u001b[39m found\u001b[38;5;241m.\u001b[39mend():\n\u001b[0;32m--> 352\u001b[0m     \u001b[38;5;28;01mraise\u001b[39;00m \u001b[38;5;167;01mValueError\u001b[39;00m(\u001b[38;5;124m\"\u001b[39m\u001b[38;5;124munconverted data remains: \u001b[39m\u001b[38;5;132;01m%s\u001b[39;00m\u001b[38;5;124m\"\u001b[39m \u001b[38;5;241m%\u001b[39m\n\u001b[1;32m    353\u001b[0m                       data_string[found\u001b[38;5;241m.\u001b[39mend():])\n\u001b[1;32m    355\u001b[0m iso_year \u001b[38;5;241m=\u001b[39m year \u001b[38;5;241m=\u001b[39m \u001b[38;5;28;01mNone\u001b[39;00m\n\u001b[1;32m    356\u001b[0m month \u001b[38;5;241m=\u001b[39m day \u001b[38;5;241m=\u001b[39m \u001b[38;5;241m1\u001b[39m\n",
      "\u001b[0;31mValueError\u001b[0m: unconverted data remains: 1st september 2019 07:25"
     ]
    }
   ],
   "source": [
    "datetime.strptime(re.findall('\\d{1,2}\\w{2}\\s\\w+\\s\\d{4}\\s\\d\\d:\\d\\d', date)[0], '')"
   ]
  },
  {
   "cell_type": "code",
   "execution_count": null,
   "id": "0dd9456c",
   "metadata": {},
   "outputs": [],
   "source": []
  },
  {
   "cell_type": "code",
   "execution_count": null,
   "id": "40fcda07",
   "metadata": {},
   "outputs": [],
   "source": []
  },
  {
   "cell_type": "code",
   "execution_count": null,
   "id": "0185e553",
   "metadata": {},
   "outputs": [],
   "source": []
  },
  {
   "cell_type": "code",
   "execution_count": null,
   "id": "d03c3296",
   "metadata": {},
   "outputs": [],
   "source": []
  },
  {
   "cell_type": "code",
   "execution_count": null,
   "id": "b00259f2",
   "metadata": {},
   "outputs": [],
   "source": []
  },
  {
   "cell_type": "code",
   "execution_count": null,
   "id": "ac0ead05",
   "metadata": {},
   "outputs": [],
   "source": []
  },
  {
   "cell_type": "code",
   "execution_count": null,
   "id": "3f86cfa7",
   "metadata": {},
   "outputs": [],
   "source": []
  }
 ],
 "metadata": {
  "kernelspec": {
   "display_name": "Python 3 (ipykernel)",
   "language": "python",
   "name": "python3"
  },
  "language_info": {
   "codemirror_mode": {
    "name": "ipython",
    "version": 3
   },
   "file_extension": ".py",
   "mimetype": "text/x-python",
   "name": "python",
   "nbconvert_exporter": "python",
   "pygments_lexer": "ipython3",
   "version": "3.11.5"
  }
 },
 "nbformat": 4,
 "nbformat_minor": 5
}
