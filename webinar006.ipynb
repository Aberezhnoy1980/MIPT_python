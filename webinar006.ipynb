{
 "cells": [
  {
   "cell_type": "markdown",
   "id": "484dd16e",
   "metadata": {},
   "source": [
    "### Обработка ошибок\n",
    "1. Текст ошибки указывается в последней строчке\n",
    "2. Все что перед ней - место где ошибка произошла\n",
    "3. Есть встроенные тиипы ошибок, но можно создавать и свои"
   ]
  },
  {
   "cell_type": "code",
   "execution_count": 1,
   "id": "f144eabe",
   "metadata": {},
   "outputs": [],
   "source": [
    "sum_num = '123'"
   ]
  },
  {
   "cell_type": "code",
   "execution_count": 2,
   "id": "6c367f65",
   "metadata": {},
   "outputs": [
    {
     "data": {
      "text/plain": [
       "123.0"
      ]
     },
     "execution_count": 2,
     "metadata": {},
     "output_type": "execute_result"
    }
   ],
   "source": [
    "float(sum_num)"
   ]
  },
  {
   "cell_type": "code",
   "execution_count": 3,
   "id": "5839517b",
   "metadata": {},
   "outputs": [],
   "source": [
    "ups = '123a'"
   ]
  },
  {
   "cell_type": "code",
   "execution_count": null,
   "id": "caa303e9",
   "metadata": {},
   "outputs": [],
   "source": [
    "float(ups)"
   ]
  },
  {
   "cell_type": "code",
   "execution_count": 4,
   "id": "0a4196d3",
   "metadata": {},
   "outputs": [],
   "source": [
    "def square_sum(*args):\n",
    "    total_sum = 0\n",
    "    for arg in args:\n",
    "        total_sum += arg**2\n",
    "        \n",
    "    return total_sum"
   ]
  },
  {
   "cell_type": "code",
   "execution_count": 5,
   "id": "414e41c5",
   "metadata": {},
   "outputs": [
    {
     "data": {
      "text/plain": [
       "14"
      ]
     },
     "execution_count": 5,
     "metadata": {},
     "output_type": "execute_result"
    }
   ],
   "source": [
    "square_sum(1, 2, 3)"
   ]
  },
  {
   "cell_type": "code",
   "execution_count": null,
   "id": "1b9993b0",
   "metadata": {},
   "outputs": [],
   "source": [
    "square_sum(1, 2, '3')"
   ]
  },
  {
   "cell_type": "code",
   "execution_count": 25,
   "id": "8a5e355a",
   "metadata": {},
   "outputs": [],
   "source": [
    "def func(number, mode):\n",
    "    \"\"\"Возвращает результат вычесления функции от number по режиму mode\"\"\"\n",
    "    if mode == 'square':\n",
    "        return number**2\n",
    "    \n",
    "    return number"
   ]
  },
  {
   "cell_type": "code",
   "execution_count": 26,
   "id": "1b2bce2d",
   "metadata": {},
   "outputs": [],
   "source": [
    "def square_sum(*args):\n",
    "    total_sum = 0\n",
    "    for arg in args:\n",
    "        total_sum += func(arg, 'square')\n",
    "        \n",
    "    return total_sum"
   ]
  },
  {
   "cell_type": "code",
   "execution_count": 27,
   "id": "f31896e2",
   "metadata": {},
   "outputs": [
    {
     "data": {
      "text/plain": [
       "14"
      ]
     },
     "execution_count": 27,
     "metadata": {},
     "output_type": "execute_result"
    }
   ],
   "source": [
    "square_sum(1, 2, 3)"
   ]
  },
  {
   "cell_type": "code",
   "execution_count": 33,
   "id": "487fbb36",
   "metadata": {},
   "outputs": [
    {
     "data": {
      "text/plain": [
       "14"
      ]
     },
     "execution_count": 33,
     "metadata": {},
     "output_type": "execute_result"
    }
   ],
   "source": [
    "file_contents = ['1', '2', '3.5']\n",
    "data = [int(float((x))) if '.' else int(x) for x in file_contents]\n",
    "\n",
    "square_sum(*data)"
   ]
  },
  {
   "cell_type": "markdown",
   "id": "61d89349",
   "metadata": {},
   "source": [
    "### План-капкан\n",
    "1. Ошибка пишется в последней строке. Осмысляем сообщение\n",
    "2. Читаем traceback (глубина (цепочка) стека ошибок - цепная реакция влияния исходной ошибки)\n",
    "3. (!!!) Когда задаете вопрос обязательно проверте что у коллеги есть достаточно информации по проблеме \n",
    "4. Ищем решение в сети (поисковики, ИИ, документация, спецчаты(StackOverFlow, Habr и пр) и прочее\n",
    "5. Спрашиваем коллег - ОБЯЗАТЕЛЬНО объясните какую задачу вы решаете\n",
    "6. Покажите какие данные на входе\n",
    "7. Составить воспроизводимый пример"
   ]
  },
  {
   "cell_type": "markdown",
   "id": "014b6851",
   "metadata": {},
   "source": [
    "### Как сделать, что бы цикл с расчетом не падал каждый раз"
   ]
  },
  {
   "cell_type": "code",
   "execution_count": 6,
   "id": "2d1a6000",
   "metadata": {},
   "outputs": [
    {
     "name": "stdout",
     "output_type": "stream",
     "text": [
      "Кривая строка\n"
     ]
    }
   ],
   "source": [
    "try:\n",
    "    # где может произойти ошибка\n",
    "    float('123a')\n",
    "    \n",
    "except:\n",
    "     # Код, который выполняется в случае ошибки\n",
    "    print('Кривая строка')\n",
    "    pass"
   ]
  },
  {
   "cell_type": "code",
   "execution_count": 7,
   "id": "a7dc9b3f",
   "metadata": {},
   "outputs": [
    {
     "name": "stdout",
     "output_type": "stream",
     "text": [
      "Ошибка в данных: 240tot\n",
      "Итого 240.0\n"
     ]
    }
   ],
   "source": [
    "data = ['90', '60', '90', '240tot']\n",
    "total_sum = 0\n",
    "\n",
    "for num in data:\n",
    "    try:\n",
    "        total_sum += float(num)\n",
    "        \n",
    "    except:\n",
    "        print('Ошибка в данных: {}'.format(num))\n",
    "        \n",
    "print('Итого', total_sum)"
   ]
  },
  {
   "cell_type": "markdown",
   "id": "c911eb0f",
   "metadata": {},
   "source": [
    "Как сохранить всю информацию об ошибках"
   ]
  },
  {
   "cell_type": "code",
   "execution_count": 8,
   "id": "7a7b60b9",
   "metadata": {},
   "outputs": [],
   "source": [
    "import traceback"
   ]
  },
  {
   "cell_type": "code",
   "execution_count": 9,
   "id": "2109f8a3",
   "metadata": {},
   "outputs": [
    {
     "name": "stdout",
     "output_type": "stream",
     "text": [
      "None\n",
      "Проехали\n"
     ]
    },
    {
     "name": "stderr",
     "output_type": "stream",
     "text": [
      "Traceback (most recent call last):\n",
      "  File \"/var/folders/3b/djf2lgj121d5rrykdmkl5sh40000gn/T/ipykernel_39552/1308437212.py\", line 2, in <module>\n",
      "    float('123fff')\n",
      "ValueError: could not convert string to float: '123fff'\n"
     ]
    }
   ],
   "source": [
    "try:\n",
    "    float('123fff')\n",
    "    \n",
    "except Exception:\n",
    "    print(traceback.print_exc())\n",
    "    \n",
    "print('Проехали')"
   ]
  },
  {
   "cell_type": "code",
   "execution_count": 16,
   "id": "8ef15eb8",
   "metadata": {},
   "outputs": [
    {
     "name": "stdout",
     "output_type": "stream",
     "text": [
      "This line will be execute always\n",
      "None\n"
     ]
    },
    {
     "name": "stderr",
     "output_type": "stream",
     "text": [
      "Traceback (most recent call last):\n",
      "  File \"/var/folders/3b/djf2lgj121d5rrykdmkl5sh40000gn/T/ipykernel_39552/4147280684.py\", line 2, in <module>\n",
      "    print(stats['wednesday'])\n",
      "          ^^^^^\n",
      "NameError: name 'stats' is not defined\n"
     ]
    },
    {
     "ename": "NameError",
     "evalue": "name 'stats' is not defined",
     "output_type": "error",
     "traceback": [
      "\u001b[0;31m---------------------------------------------------------------------------\u001b[0m",
      "\u001b[0;31mNameError\u001b[0m                                 Traceback (most recent call last)",
      "Cell \u001b[0;32mIn[16], line 2\u001b[0m\n\u001b[1;32m      1\u001b[0m \u001b[38;5;28;01mtry\u001b[39;00m:\n\u001b[0;32m----> 2\u001b[0m     \u001b[38;5;28mprint\u001b[39m(stats[\u001b[38;5;124m'\u001b[39m\u001b[38;5;124mwednesday\u001b[39m\u001b[38;5;124m'\u001b[39m])\n\u001b[1;32m      4\u001b[0m \u001b[38;5;28;01mexcept\u001b[39;00m \u001b[38;5;167;01mIndexError\u001b[39;00m:\n\u001b[1;32m      5\u001b[0m     \u001b[38;5;28mprint\u001b[39m(\u001b[38;5;124m'\u001b[39m\u001b[38;5;124mIndex error\u001b[39m\u001b[38;5;124m'\u001b[39m)\n",
      "\u001b[0;31mNameError\u001b[0m: name 'stats' is not defined"
     ]
    }
   ],
   "source": [
    "try:\n",
    "    print(stats['wednesday'])\n",
    "    \n",
    "except IndexError:\n",
    "    print('Index error')\n",
    "    \n",
    "except KeyError:\n",
    "    print('Key error')\n",
    "    print(1/0)\n",
    "\n",
    "finally:\n",
    "    print('This line will be execute always')\n",
    "    print(traceback.print_exc())\n",
    "    "
   ]
  },
  {
   "cell_type": "markdown",
   "id": "614b17ec",
   "metadata": {},
   "source": [
    "## Даты"
   ]
  },
  {
   "cell_type": "code",
   "execution_count": 22,
   "id": "a4b086b0",
   "metadata": {},
   "outputs": [],
   "source": [
    "from datetime import datetime"
   ]
  },
  {
   "cell_type": "code",
   "execution_count": 23,
   "id": "f85c0edc",
   "metadata": {},
   "outputs": [],
   "source": [
    "date_string = '09.05.2018  09:00'"
   ]
  },
  {
   "cell_type": "code",
   "execution_count": 24,
   "id": "ed04b467",
   "metadata": {},
   "outputs": [
    {
     "data": {
      "text/plain": [
       "str"
      ]
     },
     "execution_count": 24,
     "metadata": {},
     "output_type": "execute_result"
    }
   ],
   "source": [
    "type(date_string)"
   ]
  },
  {
   "cell_type": "code",
   "execution_count": 27,
   "id": "44ce6b90",
   "metadata": {},
   "outputs": [
    {
     "data": {
      "text/plain": [
       "datetime.datetime(2018, 5, 9, 9, 0)"
      ]
     },
     "execution_count": 27,
     "metadata": {},
     "output_type": "execute_result"
    }
   ],
   "source": [
    "datetime.strptime('09.05.2018 09:00', '%d.%m.%Y %H:%M')"
   ]
  },
  {
   "cell_type": "code",
   "execution_count": 29,
   "id": "11b2419c",
   "metadata": {},
   "outputs": [
    {
     "data": {
      "text/plain": [
       "datetime.datetime(2018, 5, 9, 9, 0)"
      ]
     },
     "execution_count": 29,
     "metadata": {},
     "output_type": "execute_result"
    }
   ],
   "source": [
    "date_datetime = datetime.strptime(date_string, '%d.%m.%Y %H:%M')\n",
    "date_datetime"
   ]
  },
  {
   "cell_type": "code",
   "execution_count": 31,
   "id": "9c5160d2",
   "metadata": {},
   "outputs": [
    {
     "data": {
      "text/plain": [
       "datetime.datetime"
      ]
     },
     "execution_count": 31,
     "metadata": {},
     "output_type": "execute_result"
    }
   ],
   "source": [
    "type(date_datetime)"
   ]
  },
  {
   "cell_type": "code",
   "execution_count": 32,
   "id": "713a63a4",
   "metadata": {},
   "outputs": [
    {
     "data": {
      "text/plain": [
       "(2018, 9)"
      ]
     },
     "execution_count": 32,
     "metadata": {},
     "output_type": "execute_result"
    }
   ],
   "source": [
    "date_datetime.year, date_datetime.hour"
   ]
  },
  {
   "cell_type": "code",
   "execution_count": 33,
   "id": "61bf7dd7",
   "metadata": {},
   "outputs": [
    {
     "data": {
      "text/plain": [
       "2"
      ]
     },
     "execution_count": 33,
     "metadata": {},
     "output_type": "execute_result"
    }
   ],
   "source": [
    "date_datetime.weekday()"
   ]
  },
  {
   "cell_type": "code",
   "execution_count": 34,
   "id": "694b98dd",
   "metadata": {},
   "outputs": [
    {
     "data": {
      "text/plain": [
       "datetime.datetime(2023, 10, 12, 20, 13, 26, 74586)"
      ]
     },
     "execution_count": 34,
     "metadata": {},
     "output_type": "execute_result"
    }
   ],
   "source": [
    "datetime.now()"
   ]
  },
  {
   "cell_type": "markdown",
   "id": "5b3f18d6",
   "metadata": {},
   "source": [
    "## Прибавление интервала к датам "
   ]
  },
  {
   "cell_type": "code",
   "execution_count": 36,
   "id": "45c694b5",
   "metadata": {},
   "outputs": [],
   "source": [
    "from datetime import timedelta as td"
   ]
  },
  {
   "cell_type": "code",
   "execution_count": 37,
   "id": "ae1df5f1",
   "metadata": {},
   "outputs": [],
   "source": [
    "start_date = '2018-01-01'\n",
    "end_date = '2018-01-07'"
   ]
  },
  {
   "cell_type": "code",
   "execution_count": 38,
   "id": "eae3ae49",
   "metadata": {},
   "outputs": [
    {
     "data": {
      "text/plain": [
       "str"
      ]
     },
     "execution_count": 38,
     "metadata": {},
     "output_type": "execute_result"
    }
   ],
   "source": [
    "type(start_date)"
   ]
  },
  {
   "cell_type": "code",
   "execution_count": 41,
   "id": "a0b5e532",
   "metadata": {},
   "outputs": [
    {
     "data": {
      "text/plain": [
       "datetime.datetime(2018, 1, 1, 0, 0)"
      ]
     },
     "execution_count": 41,
     "metadata": {},
     "output_type": "execute_result"
    }
   ],
   "source": [
    "start_date_datetime = datetime.strptime(start_date, '%Y-%m-%d')\n",
    "start_date_datetime"
   ]
  },
  {
   "cell_type": "code",
   "execution_count": 42,
   "id": "3459d0bc",
   "metadata": {},
   "outputs": [
    {
     "data": {
      "text/plain": [
       "datetime.datetime(2018, 1, 2, 0, 0)"
      ]
     },
     "execution_count": 42,
     "metadata": {},
     "output_type": "execute_result"
    }
   ],
   "source": [
    "start_date_datetime + td(days=1)"
   ]
  },
  {
   "cell_type": "code",
   "execution_count": 43,
   "id": "b6659b51",
   "metadata": {},
   "outputs": [
    {
     "data": {
      "text/plain": [
       "datetime.datetime(2017, 12, 24, 23, 59)"
      ]
     },
     "execution_count": 43,
     "metadata": {},
     "output_type": "execute_result"
    }
   ],
   "source": [
    "start_date_datetime + td(days=-7, minutes=-1)"
   ]
  },
  {
   "cell_type": "markdown",
   "id": "d44ffcff",
   "metadata": {},
   "source": [
    "## Перевод обратно в строку"
   ]
  },
  {
   "cell_type": "code",
   "execution_count": 44,
   "id": "1991d41c",
   "metadata": {},
   "outputs": [
    {
     "data": {
      "text/plain": [
       "datetime.datetime(2018, 9, 1, 0, 0)"
      ]
     },
     "execution_count": 44,
     "metadata": {},
     "output_type": "execute_result"
    }
   ],
   "source": [
    "date = datetime(2018, 9, 1)\n",
    "date"
   ]
  },
  {
   "cell_type": "code",
   "execution_count": 45,
   "id": "deef6564",
   "metadata": {},
   "outputs": [
    {
     "data": {
      "text/plain": [
       "'2018-09-01'"
      ]
     },
     "execution_count": 45,
     "metadata": {},
     "output_type": "execute_result"
    }
   ],
   "source": [
    "date.strftime('%Y-%m-%d')"
   ]
  },
  {
   "cell_type": "code",
   "execution_count": 46,
   "id": "32393790",
   "metadata": {},
   "outputs": [
    {
     "data": {
      "text/plain": [
       "'2023-10-01'"
      ]
     },
     "execution_count": 46,
     "metadata": {},
     "output_type": "execute_result"
    }
   ],
   "source": [
    "datetime.now().strftime('%Y-%m-01')"
   ]
  },
  {
   "cell_type": "code",
   "execution_count": 48,
   "id": "77f73378",
   "metadata": {},
   "outputs": [
    {
     "data": {
      "text/plain": [
       "'2018-09-01'"
      ]
     },
     "execution_count": 48,
     "metadata": {},
     "output_type": "execute_result"
    }
   ],
   "source": [
    "date.strftime('%Y-%m-01')"
   ]
  },
  {
   "cell_type": "code",
   "execution_count": 49,
   "id": "ece39181",
   "metadata": {},
   "outputs": [],
   "source": [
    "start_date = '2018-01-01'\n",
    "end_date = '2018-01-07'"
   ]
  },
  {
   "cell_type": "code",
   "execution_count": 50,
   "id": "61b7e14b",
   "metadata": {},
   "outputs": [
    {
     "data": {
      "text/plain": [
       "('2018-01-01', '2018-01-07')"
      ]
     },
     "execution_count": 50,
     "metadata": {},
     "output_type": "execute_result"
    }
   ],
   "source": [
    "start_date, end_date"
   ]
  },
  {
   "cell_type": "code",
   "execution_count": 54,
   "id": "ab082476",
   "metadata": {},
   "outputs": [
    {
     "name": "stdout",
     "output_type": "stream",
     "text": [
      "2018-01-01 00:00:00 2018-01-07 00:00:00\n"
     ]
    }
   ],
   "source": [
    "start_date_dt = datetime.strptime(start_date, '%Y-%m-%d')\n",
    "end_date_dt = datetime.strptime(end_date, '%Y-%m-%d')\n",
    "\n",
    "print(start_date_dt, end_date_dt)"
   ]
  },
  {
   "cell_type": "code",
   "execution_count": 55,
   "id": "9579e168",
   "metadata": {},
   "outputs": [
    {
     "name": "stdout",
     "output_type": "stream",
     "text": [
      "1 2 3 4 5 6 7 8 9 10 "
     ]
    }
   ],
   "source": [
    "i = 0\n",
    "\n",
    "while i < 10:\n",
    "    i += 1\n",
    "    print(i, end=' ')"
   ]
  },
  {
   "cell_type": "code",
   "execution_count": 59,
   "id": "bf3babb2",
   "metadata": {},
   "outputs": [
    {
     "name": "stdout",
     "output_type": "stream",
     "text": [
      "2018-01-01\n",
      "2018-01-02\n",
      "2018-01-03\n",
      "2018-01-04\n",
      "2018-01-05\n",
      "2018-01-06\n",
      "2018-01-07\n"
     ]
    }
   ],
   "source": [
    "# можно и comprehence\n",
    "current_dt = start_date_dt\n",
    "\n",
    "while current_dt <= end_date_dt:\n",
    "    print(current_dt.strftime('%Y-%m-%d'))\n",
    "    \n",
    "    current_dt += td(days=1)"
   ]
  },
  {
   "cell_type": "markdown",
   "id": "60c4842b",
   "metadata": {},
   "source": [
    "## Unixtime\n",
    "Количество секунд, прошедших с 1 января 1970 года по UTC"
   ]
  },
  {
   "cell_type": "code",
   "execution_count": 60,
   "id": "5daaea4b",
   "metadata": {},
   "outputs": [],
   "source": [
    "import time\n",
    "from datetime import date\n",
    "from datetime import datetime"
   ]
  },
  {
   "cell_type": "code",
   "execution_count": 61,
   "id": "f276dcf5",
   "metadata": {},
   "outputs": [
    {
     "data": {
      "text/plain": [
       "1552251600.0"
      ]
     },
     "execution_count": 61,
     "metadata": {},
     "output_type": "execute_result"
    }
   ],
   "source": [
    "d = date(2019, 3, 11)\n",
    "\n",
    "unixtime = time.mktime(d.timetuple())\n",
    "unixtime"
   ]
  },
  {
   "cell_type": "code",
   "execution_count": 62,
   "id": "99bbd501",
   "metadata": {},
   "outputs": [],
   "source": [
    "from datetime import datetime"
   ]
  },
  {
   "cell_type": "code",
   "execution_count": 64,
   "id": "16c83bf2",
   "metadata": {},
   "outputs": [
    {
     "data": {
      "text/plain": [
       "datetime.datetime(2019, 3, 11, 0, 0)"
      ]
     },
     "execution_count": 64,
     "metadata": {},
     "output_type": "execute_result"
    }
   ],
   "source": [
    "datetime.fromtimestamp(1552251600)"
   ]
  },
  {
   "cell_type": "markdown",
   "id": "f28ae4a0",
   "metadata": {},
   "source": [
    "## Задача про интервалы дат\n",
    "Имеется список отсортированных по возрастанию дат dates_lilst. А также дата date, которая лежит между минимальным и максимальным значениями из списка dates_list. Вам необходимо определить ближайшие даты в списке date_list, которые окружают дату date."
   ]
  },
  {
   "cell_type": "code",
   "execution_count": 7,
   "id": "2f5a3c41",
   "metadata": {},
   "outputs": [],
   "source": [
    "dates_list = ['2022-01-01', '2022-01-07', '2022-02-23', '2022-03-08', '2022-05-01', '2022-05-09', '2022-06-12']\n",
    "date = '2022-04-01'"
   ]
  },
  {
   "cell_type": "markdown",
   "id": "e2505c63",
   "metadata": {},
   "source": [
    "### Порядок следование дат по календарю совпадает с алфавитным"
   ]
  },
  {
   "cell_type": "code",
   "execution_count": 3,
   "id": "b63ee082",
   "metadata": {},
   "outputs": [
    {
     "data": {
      "text/plain": [
       "True"
      ]
     },
     "execution_count": 3,
     "metadata": {},
     "output_type": "execute_result"
    }
   ],
   "source": [
    "'2021-12-31' < '2022-01-01'"
   ]
  },
  {
   "cell_type": "code",
   "execution_count": 4,
   "id": "ee848091",
   "metadata": {},
   "outputs": [
    {
     "data": {
      "text/plain": [
       "True"
      ]
     },
     "execution_count": 4,
     "metadata": {},
     "output_type": "execute_result"
    }
   ],
   "source": [
    "'logs_2023-10-06.csv' < 'logs_2023-10-07'"
   ]
  },
  {
   "cell_type": "code",
   "execution_count": 5,
   "id": "b2feb3c1",
   "metadata": {},
   "outputs": [
    {
     "data": {
      "text/plain": [
       "True"
      ]
     },
     "execution_count": 5,
     "metadata": {},
     "output_type": "execute_result"
    }
   ],
   "source": [
    "'2022-01-01 20:37:15' < '2022-01-01 20:38:15'"
   ]
  },
  {
   "cell_type": "code",
   "execution_count": 6,
   "id": "1a92ca3c",
   "metadata": {},
   "outputs": [],
   "source": [
    "# вариант 1"
   ]
  },
  {
   "cell_type": "code",
   "execution_count": 10,
   "id": "aef59243",
   "metadata": {},
   "outputs": [
    {
     "name": "stdout",
     "output_type": "stream",
     "text": [
      "0 2022-01-01\n",
      "1 2022-01-07\n",
      "2 2022-02-23\n",
      "3 2022-03-08\n",
      "4 2022-05-01\n",
      "5 2022-05-09\n",
      "6 2022-06-12\n"
     ]
    }
   ],
   "source": [
    "i = 0\n",
    "\n",
    "for dt in dates_list:\n",
    "    print(i, dt)\n",
    "    \n",
    "    i += 1"
   ]
  },
  {
   "cell_type": "code",
   "execution_count": 11,
   "id": "dad9d567",
   "metadata": {},
   "outputs": [],
   "source": [
    "# Вариант 2"
   ]
  },
  {
   "cell_type": "code",
   "execution_count": 12,
   "id": "e6e513bc",
   "metadata": {},
   "outputs": [
    {
     "name": "stdout",
     "output_type": "stream",
     "text": [
      "0 2022-01-01\n",
      "1 2022-01-07\n",
      "2 2022-02-23\n",
      "3 2022-03-08\n",
      "4 2022-05-01\n",
      "5 2022-05-09\n",
      "6 2022-06-12\n"
     ]
    }
   ],
   "source": [
    "for i in range(len(dates_list)):\n",
    "    print(i, dates_list[i])"
   ]
  },
  {
   "cell_type": "code",
   "execution_count": null,
   "id": "68438140",
   "metadata": {},
   "outputs": [],
   "source": [
    "# Вариант 3"
   ]
  },
  {
   "cell_type": "code",
   "execution_count": 17,
   "id": "054a15b6",
   "metadata": {},
   "outputs": [
    {
     "name": "stdout",
     "output_type": "stream",
     "text": [
      "3 2022-03-08 2022-05-01\n",
      "CPU times: user 239 µs, sys: 132 µs, total: 371 µs\n",
      "Wall time: 323 µs\n"
     ]
    }
   ],
   "source": [
    "%%time\n",
    "\n",
    "for i, dt in enumerate(date_list[:-1]):\n",
    "    if dt < date < dates_list[i + 1]:\n",
    "        print(i, dt, dates_list[i + 1])"
   ]
  },
  {
   "cell_type": "markdown",
   "id": "6447bbc2",
   "metadata": {},
   "source": [
    "### С какой скоростью работает алгоритм\n",
    "Во сколько раз время выполнения кода, если количество данных вырастет в n раз\n",
    "### Алгоритмическая сложность функция роста количества итераций от количества данных"
   ]
  },
  {
   "cell_type": "code",
   "execution_count": null,
   "id": "3436e691",
   "metadata": {},
   "outputs": [],
   "source": [
    "# O(функция от N)\n",
    "# Линейный поииск - O(N)   x100"
   ]
  },
  {
   "cell_type": "code",
   "execution_count": null,
   "id": "c45e0257",
   "metadata": {},
   "outputs": [],
   "source": [
    "# Квадратичный - O(N)\n",
    "# for i in range(N):\n",
    "#     for j in range(N):    # N x100 --> x10000"
   ]
  },
  {
   "cell_type": "code",
   "execution_count": null,
   "id": "888c101d",
   "metadata": {},
   "outputs": [],
   "source": [
    "# Бинарный поиск (однако нужна сортировка!) - O(Log N) по основанию 2\n",
    "# Пример - телефонный справочник\n",
    "\n"
   ]
  },
  {
   "cell_type": "code",
   "execution_count": 18,
   "id": "7abb2fdb",
   "metadata": {},
   "outputs": [
    {
     "data": {
      "text/plain": [
       "1024"
      ]
     },
     "execution_count": 18,
     "metadata": {},
     "output_type": "execute_result"
    }
   ],
   "source": [
    "2**10  # линейный поиск замедлится в 1024 раза; бинарный - 10 (асимптота - максимально плохой исход)\n"
   ]
  },
  {
   "cell_type": "code",
   "execution_count": null,
   "id": "be55ff99",
   "metadata": {},
   "outputs": [],
   "source": [
    "# Какой алгоритм самый быстрый - O(1)"
   ]
  }
 ],
 "metadata": {
  "kernelspec": {
   "display_name": "Python 3 (ipykernel)",
   "language": "python",
   "name": "python3"
  },
  "language_info": {
   "codemirror_mode": {
    "name": "ipython",
    "version": 3
   },
   "file_extension": ".py",
   "mimetype": "text/x-python",
   "name": "python",
   "nbconvert_exporter": "python",
   "pygments_lexer": "ipython3",
   "version": "3.11.5"
  }
 },
 "nbformat": 4,
 "nbformat_minor": 5
}
