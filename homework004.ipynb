{
 "cells": [
  {
   "cell_type": "markdown",
   "id": "ccf6a3df",
   "metadata": {},
   "source": [
    "### Описание задания\n",
    "Вам нужно помочь секретарю автоматизировать работу. Для этого нужно написать программу, которая будет на основе хранимых данных исполнять пользовательские команды.\n",
    "\n",
    "Исходные данные имеют следующую структуру:"
   ]
  },
  {
   "cell_type": "code",
   "execution_count": 1,
   "id": "4747af74",
   "metadata": {},
   "outputs": [],
   "source": [
    "\"\"\"перечень всех документов\"\"\"\n",
    "\n",
    "documents = [\n",
    " {'type': 'passport', 'number': '2207 876234', 'name': 'Василий Гупкин'},\n",
    " {'type': 'invoice', 'number': '11-2', 'name': 'Геннадий Покемонов'},\n",
    " {'type': 'insurance', 'number': '10006', 'name': 'Аристарх Павлов'}\n",
    "]"
   ]
  },
  {
   "cell_type": "code",
   "execution_count": 2,
   "id": "89b4c03a",
   "metadata": {},
   "outputs": [],
   "source": [
    "\"\"\"перечень полок, на которых хранятся документы (если документ есть в documents, \n",
    "то он обязательно должен быть и в directories)\"\"\"\n",
    "\n",
    "directories = {\n",
    " '1': ['2207 876234', '11-2'],\n",
    " '2': ['10006'],\n",
    " '3': []\n",
    "}"
   ]
  },
  {
   "cell_type": "markdown",
   "id": "1dae7b68",
   "metadata": {},
   "source": [
    "#### Задание 1\n",
    "Пользователь по команде «p» может узнать владельца документа по его номеру.\n",
    "\n",
    "Пример работы программы:\n",
    "\n",
    "`Введите команду: p`\n",
    "\n",
    "`Введите номер документа: 10006`\n",
    "\n",
    "Результат:\n",
    "\n",
    "`Владелец документа: Аристарх Павлов`"
   ]
  },
  {
   "cell_type": "code",
   "execution_count": 3,
   "id": "7b72bc4f",
   "metadata": {},
   "outputs": [],
   "source": [
    "def user_prompt():\n",
    "    return input('Enter a command: ')"
   ]
  },
  {
   "cell_type": "code",
   "execution_count": 4,
   "id": "2bcc3fb8",
   "metadata": {},
   "outputs": [],
   "source": [
    "def is_command_correct(command):\n",
    "    return command == 'p' or command == 'q' or command == 's'"
   ]
  },
  {
   "cell_type": "code",
   "execution_count": 5,
   "id": "b6cf4ef5",
   "metadata": {},
   "outputs": [],
   "source": [
    "def command_handler(command):\n",
    "    if is_command_correct(command):\n",
    "        if command == 'p':\n",
    "            return find_name_by_number(input('Enter the document number: '))\n",
    "        elif command == 's':\n",
    "            return find_place_by_number(input('Enter the document number: '))\n",
    "        else:\n",
    "            return 'quit'\n",
    "    else:\n",
    "        return 'Command incorrect. Try again or q to exit'"
   ]
  },
  {
   "cell_type": "code",
   "execution_count": 6,
   "id": "c519ca97",
   "metadata": {},
   "outputs": [],
   "source": [
    "def find_name_by_number(number):\n",
    "    for data in documents:\n",
    "        if number == data['number']:\n",
    "            return f\"Document ownner: {data['name']}\"\n",
    "    return 'name not found'"
   ]
  },
  {
   "cell_type": "code",
   "execution_count": 7,
   "id": "4cfbe38b",
   "metadata": {},
   "outputs": [],
   "source": [
    "def find_place_by_number(number):\n",
    "    for k, v in directories.items():\n",
    "        if number in v:\n",
    "            return f\"Document placed at: {k} shelf\"\n",
    "    return 'Document not found'"
   ]
  },
  {
   "cell_type": "code",
   "execution_count": 8,
   "id": "6f40e18d",
   "metadata": {},
   "outputs": [],
   "source": [
    "def get_info():\n",
    "    flag = True\n",
    "    \n",
    "    while flag:\n",
    "        message = command_handler(user_prompt())\n",
    "        if message == 'quit':\n",
    "            flag = False\n",
    "        else: \n",
    "            print(message)"
   ]
  },
  {
   "cell_type": "code",
   "execution_count": 10,
   "id": "e98a18a9",
   "metadata": {},
   "outputs": [
    {
     "name": "stdout",
     "output_type": "stream",
     "text": [
      "Enter a command: p\n",
      "Enter the document number: 11-2\n",
      "Document ownner: Геннадий Покемонов\n",
      "Enter a command: s\n",
      "Enter the document number: 11-2\n",
      "Document placed at: 1 shelf\n",
      "Enter a command: q\n"
     ]
    }
   ],
   "source": [
    "get_info()"
   ]
  }
 ],
 "metadata": {
  "kernelspec": {
   "display_name": "Python 3 (ipykernel)",
   "language": "python",
   "name": "python3"
  },
  "language_info": {
   "codemirror_mode": {
    "name": "ipython",
    "version": 3
   },
   "file_extension": ".py",
   "mimetype": "text/x-python",
   "name": "python",
   "nbconvert_exporter": "python",
   "pygments_lexer": "ipython3",
   "version": "3.11.5"
  }
 },
 "nbformat": 4,
 "nbformat_minor": 5
}
