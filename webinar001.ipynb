{
 "cells": [
  {
   "cell_type": "markdown",
   "id": "2291568f",
   "metadata": {},
   "source": [
    "### Краткая запись односложный условий из if и else"
   ]
  },
  {
   "cell_type": "code",
   "execution_count": 12,
   "id": "721a92f7",
   "metadata": {
    "scrolled": true
   },
   "outputs": [
    {
     "name": "stdout",
     "output_type": "stream",
     "text": [
      "num isn't even\n"
     ]
    }
   ],
   "source": [
    "# even or not\n",
    "num = 5\n",
    "\n",
    "if num % 2 == 0:\n",
    "    print('num is even')\n",
    "else:\n",
    "    print('num isn\\'t even') "
   ]
  },
  {
   "cell_type": "code",
   "execution_count": 13,
   "id": "0426966b",
   "metadata": {
    "scrolled": true
   },
   "outputs": [
    {
     "name": "stdout",
     "output_type": "stream",
     "text": [
      "num isn't even\n"
     ]
    }
   ],
   "source": [
    " print('num is even') if num % 2 == 0 else print('num isn\\'t even') "
   ]
  },
  {
   "cell_type": "markdown",
   "id": "500d7efd",
   "metadata": {},
   "source": [
    "### Изменяемые и неизменяемые типы данных"
   ]
  },
  {
   "cell_type": "code",
   "execution_count": 14,
   "id": "52465f7c",
   "metadata": {},
   "outputs": [],
   "source": [
    "some_names = ['John', 'James', 'Linda']"
   ]
  },
  {
   "cell_type": "code",
   "execution_count": 15,
   "id": "c6b9598b",
   "metadata": {},
   "outputs": [
    {
     "data": {
      "text/plain": [
       "['James', 'John', 'Linda']"
      ]
     },
     "execution_count": 15,
     "metadata": {},
     "output_type": "execute_result"
    }
   ],
   "source": [
    "some_names.sort()\n",
    "some_names"
   ]
  },
  {
   "cell_type": "code",
   "execution_count": 17,
   "id": "a4a7a3a7",
   "metadata": {},
   "outputs": [],
   "source": [
    "name = 'John'"
   ]
  },
  {
   "cell_type": "code",
   "execution_count": 18,
   "id": "f93a059c",
   "metadata": {},
   "outputs": [
    {
     "data": {
      "text/plain": [
       "'john'"
      ]
     },
     "execution_count": 18,
     "metadata": {},
     "output_type": "execute_result"
    }
   ],
   "source": [
    "result = name.lower()\n",
    "result"
   ]
  },
  {
   "cell_type": "code",
   "execution_count": 19,
   "id": "ea4d82d9",
   "metadata": {},
   "outputs": [
    {
     "name": "stdout",
     "output_type": "stream",
     "text": [
      "None\n"
     ]
    }
   ],
   "source": [
    "some_names = ['John', 'James', 'Linda']\n",
    "result = some_names.sort()\n",
    "print(result)"
   ]
  },
  {
   "cell_type": "code",
   "execution_count": 20,
   "id": "4ea2cd22",
   "metadata": {},
   "outputs": [
    {
     "data": {
      "text/plain": [
       "['James', 'John', 'Linda']"
      ]
     },
     "execution_count": 20,
     "metadata": {},
     "output_type": "execute_result"
    }
   ],
   "source": [
    "some_names"
   ]
  },
  {
   "cell_type": "markdown",
   "id": "465c23b6",
   "metadata": {},
   "source": [
    "### Нужна копия списка"
   ]
  },
  {
   "cell_type": "code",
   "execution_count": 21,
   "id": "57d745bf",
   "metadata": {},
   "outputs": [
    {
     "data": {
      "text/plain": [
       "['James', 'John', 'Linda']"
      ]
     },
     "execution_count": 21,
     "metadata": {},
     "output_type": "execute_result"
    }
   ],
   "source": [
    "copy_some_names = some_names\n",
    "copy_some_names"
   ]
  },
  {
   "cell_type": "code",
   "execution_count": 22,
   "id": "4b78377d",
   "metadata": {},
   "outputs": [
    {
     "data": {
      "text/plain": [
       "(4493580480, 4493580480)"
      ]
     },
     "execution_count": 22,
     "metadata": {},
     "output_type": "execute_result"
    }
   ],
   "source": [
    "id(some_names), id(copy_some_names)"
   ]
  },
  {
   "cell_type": "code",
   "execution_count": 23,
   "id": "e70b3ee5",
   "metadata": {},
   "outputs": [
    {
     "data": {
      "text/plain": [
       "['James', 'John', 'Linda', 'Lena']"
      ]
     },
     "execution_count": 23,
     "metadata": {},
     "output_type": "execute_result"
    }
   ],
   "source": [
    "copy_some_names.append('Lena')\n",
    "copy_some_names"
   ]
  },
  {
   "cell_type": "code",
   "execution_count": 24,
   "id": "62597f67",
   "metadata": {},
   "outputs": [
    {
     "data": {
      "text/plain": [
       "['James', 'John', 'Linda', 'Lena']"
      ]
     },
     "execution_count": 24,
     "metadata": {},
     "output_type": "execute_result"
    }
   ],
   "source": [
    "some_names"
   ]
  },
  {
   "cell_type": "code",
   "execution_count": 25,
   "id": "98999c0e",
   "metadata": {},
   "outputs": [],
   "source": [
    "# true copy\n",
    "\n",
    "some_names = ['John', 'James', 'Linda']\n",
    "copy_some_names = some_names.copy()"
   ]
  },
  {
   "cell_type": "code",
   "execution_count": 26,
   "id": "248053b6",
   "metadata": {},
   "outputs": [
    {
     "data": {
      "text/plain": [
       "False"
      ]
     },
     "execution_count": 26,
     "metadata": {},
     "output_type": "execute_result"
    }
   ],
   "source": [
    "id(some_names) == id(copy_some_names)"
   ]
  },
  {
   "cell_type": "code",
   "execution_count": 27,
   "id": "76ff9545",
   "metadata": {},
   "outputs": [
    {
     "data": {
      "text/plain": [
       "['John', 'James', 'Linda']"
      ]
     },
     "execution_count": 27,
     "metadata": {},
     "output_type": "execute_result"
    }
   ],
   "source": [
    "copy_some_names.append('Lena')\n",
    "some_names"
   ]
  },
  {
   "cell_type": "markdown",
   "id": "5f8d59fe",
   "metadata": {},
   "source": [
    "### <u>f-строки</u>\n",
    "Добавляя префикс f к строке можно встраиивать в нее произвольные выражениия при помощи фигурных скобок {}\n",
    "Можно разделять периоды чисел любым раздилителем"
   ]
  },
  {
   "cell_type": "code",
   "execution_count": null,
   "id": "341418dc",
   "metadata": {},
   "outputs": [],
   "source": [
    "# устаревшие варианты\n",
    "print('Годовая зарплата: %d', year_salary)"
   ]
  },
  {
   "cell_type": "code",
   "execution_count": 31,
   "id": "3f838cb6",
   "metadata": {},
   "outputs": [
    {
     "name": "stdout",
     "output_type": "stream",
     "text": [
      "Годовая зарплата: 5, 200, 1000000000.00%\n"
     ]
    }
   ],
   "source": [
    "# Метод format\n",
    "\n",
    "print('Годовая зарплата: {1}, {2}, {0:0.2%}'.format(year_salary, 5, 200))"
   ]
  },
  {
   "cell_type": "code",
   "execution_count": 29,
   "id": "c1cafada",
   "metadata": {},
   "outputs": [
    {
     "name": "stdout",
     "output_type": "stream",
     "text": [
      "Годовая зарплата: $10,000,000\n"
     ]
    }
   ],
   "source": [
    "year_salary = 10000000\n",
    "print(f'Годовая зарплата: ${year_salary :,}')"
   ]
  },
  {
   "cell_type": "markdown",
   "id": "b07fb289",
   "metadata": {},
   "source": [
    "Можно представлять чиисла с округлением до нужного количества знаков"
   ]
  },
  {
   "cell_type": "code",
   "execution_count": 32,
   "id": "9ad23081",
   "metadata": {},
   "outputs": [
    {
     "name": "stdout",
     "output_type": "stream",
     "text": [
      "Число Пи: 3.14\n"
     ]
    }
   ],
   "source": [
    "pi_value = 3.141592653589793\n",
    "\n",
    "print(f'Число Пи: {pi_value :.2f}')"
   ]
  },
  {
   "cell_type": "markdown",
   "id": "3c394aa3",
   "metadata": {},
   "source": [
    "### Practice\n",
    "\n",
    "Выведите результат в виде:\n",
    "\n",
    "    > Pluto weighs about 1.3e+22 kilograms (0.218% of Earth's mass). It is home to 52,910,390 Plutonians"
   ]
  },
  {
   "cell_type": "code",
   "execution_count": 33,
   "id": "4bb325e6",
   "metadata": {},
   "outputs": [],
   "source": [
    "planet = 'pluto'\n",
    "pluto_mass = 1.303 * 10 ** 22\n",
    "earth_mass = 5.9722 * 10 ** 24\n",
    "population = 52910390"
   ]
  },
  {
   "cell_type": "code",
   "execution_count": 35,
   "id": "dfd855e7",
   "metadata": {},
   "outputs": [
    {
     "data": {
      "text/plain": [
       "\"pluto weighs about 1.3e+22 kilograms (0.218% of Earth's mass). It is home to 52,910,390 Plutonians\""
      ]
     },
     "execution_count": 35,
     "metadata": {},
     "output_type": "execute_result"
    }
   ],
   "source": [
    "f\"{planet} weighs about {pluto_mass:.1e} kilograms ({pluto_mass / earth_mass:.3%} of Earth's mass). It is home to {population:,} Plutonians\""
   ]
  },
  {
   "cell_type": "markdown",
   "id": "374a3bda",
   "metadata": {},
   "source": [
    "Выведем на экран список всех слов длиннее n букв из текста"
   ]
  },
  {
   "cell_type": "code",
   "execution_count": 36,
   "id": "ba42d1e2",
   "metadata": {},
   "outputs": [],
   "source": [
    "text = 'Python - высокоуровневый язык программирования, ориентированный на повышение производительности разработчика и читаемостии кода.'\n",
    "n = 4"
   ]
  },
  {
   "cell_type": "code",
   "execution_count": 41,
   "id": "0c130738",
   "metadata": {},
   "outputs": [
    {
     "data": {
      "text/plain": [
       "['Python',\n",
       " '-',\n",
       " 'высокоуровневый',\n",
       " 'язык',\n",
       " 'программирования,',\n",
       " 'ориентированный',\n",
       " 'на',\n",
       " 'повышение',\n",
       " 'производительности',\n",
       " 'разработчика',\n",
       " 'и',\n",
       " 'читаемостии',\n",
       " 'кода.']"
      ]
     },
     "execution_count": 41,
     "metadata": {},
     "output_type": "execute_result"
    }
   ],
   "source": [
    "splitted_text = text.split(' ')\n",
    "splitted_text"
   ]
  },
  {
   "cell_type": "code",
   "execution_count": 44,
   "id": "b700457e",
   "metadata": {},
   "outputs": [
    {
     "name": "stdout",
     "output_type": "stream",
     "text": [
      "Python\n",
      "высокоуровневый\n",
      "программирования\n",
      "ориентированный\n",
      "повышение\n",
      "производительности\n",
      "разработчика\n",
      "читаемостии\n"
     ]
    }
   ],
   "source": [
    "for word in splitted_text:\n",
    "    word = word.strip(',.-?!')\n",
    "    if len(word) > n:\n",
    "        print(word)"
   ]
  },
  {
   "cell_type": "code",
   "execution_count": 50,
   "id": "01ec5638",
   "metadata": {},
   "outputs": [],
   "source": [
    "data = [\n",
    "    [13, 25, 23, 34],\n",
    "    [45, 32, 44, 47],\n",
    "    [12, 33, 23, 95],\n",
    "    [13, 53, 34, 35]\n",
    "]"
   ]
  },
  {
   "cell_type": "code",
   "execution_count": 55,
   "id": "636a26d0",
   "metadata": {},
   "outputs": [
    {
     "name": "stdout",
     "output_type": "stream",
     "text": [
      "0 13\n",
      "1 32\n",
      "2 23\n",
      "3 35\n",
      "103\n"
     ]
    }
   ],
   "source": [
    "total_sum = 0\n",
    "\n",
    "for i, line in enumerate(data):\n",
    "    print(i, line[i])\n",
    "    total_sum += line[i]\n",
    "    \n",
    "print(total_sum)"
   ]
  },
  {
   "cell_type": "code",
   "execution_count": null,
   "id": "6fb6eea8",
   "metadata": {},
   "outputs": [],
   "source": []
  }
 ],
 "metadata": {
  "kernelspec": {
   "display_name": "Python 3 (ipykernel)",
   "language": "python",
   "name": "python3"
  },
  "language_info": {
   "codemirror_mode": {
    "name": "ipython",
    "version": 3
   },
   "file_extension": ".py",
   "mimetype": "text/x-python",
   "name": "python",
   "nbconvert_exporter": "python",
   "pygments_lexer": "ipython3",
   "version": "3.11.5"
  }
 },
 "nbformat": 4,
 "nbformat_minor": 5
}
