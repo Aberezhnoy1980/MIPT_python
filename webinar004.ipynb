{
 "cells": [
  {
   "cell_type": "markdown",
   "id": "b9e4a25b",
   "metadata": {},
   "source": [
    "### Практика\n",
    "\n",
    "#### Напишем функцию, которая определяет является ли слово палиндромом\n",
    "пример работы программы:\n",
    "\n",
    "`print(is_palindrom('Радар'))\n",
    "True`\n",
    "\n",
    "`print(is_palindrom('строка')\n",
    "False`"
   ]
  },
  {
   "cell_type": "code",
   "execution_count": 9,
   "id": "29a693da",
   "metadata": {},
   "outputs": [],
   "source": [
    "word = 'RAdar'\n",
    "\n",
    "def is_pallindrom(word):\n",
    "    \"\"\"\n",
    "    reverse the string argument and compares with original\n",
    "    \"\"\"\n",
    "    return word.lower() == word[::-1].lower()"
   ]
  },
  {
   "cell_type": "code",
   "execution_count": 8,
   "id": "de2164b3",
   "metadata": {},
   "outputs": [
    {
     "data": {
      "text/plain": [
       "True"
      ]
     },
     "execution_count": 8,
     "metadata": {},
     "output_type": "execute_result"
    }
   ],
   "source": [
    "is_pallindrom(word)"
   ]
  },
  {
   "cell_type": "code",
   "execution_count": 10,
   "id": "f41fac2d",
   "metadata": {},
   "outputs": [],
   "source": [
    "?is_pallindrom"
   ]
  },
  {
   "cell_type": "markdown",
   "id": "1b4133af",
   "metadata": {},
   "source": [
    "#### args and kwargs\n",
    "Иногда возникает ситуация, когда вы заранее не знаете, какое количество аргументов будет необходимо принять\n",
    "функции. В этом случае следует использовать аргументы произвольной длинны. Они задаются\n",
    "произвольным именем переменной, перед которой ставится звездочка (args) или две звездочки (kwargs)"
   ]
  },
  {
   "cell_type": "code",
   "execution_count": 13,
   "id": "d22f1b97",
   "metadata": {},
   "outputs": [],
   "source": [
    "def sum_division(*params):\n",
    "    print(params, type(params))"
   ]
  },
  {
   "cell_type": "code",
   "execution_count": 14,
   "id": "bbd4f1ac",
   "metadata": {},
   "outputs": [
    {
     "name": "stdout",
     "output_type": "stream",
     "text": [
      "(1, 2, 3) <class 'tuple'>\n"
     ]
    }
   ],
   "source": [
    "sum_division(1, 2, 3)"
   ]
  },
  {
   "cell_type": "code",
   "execution_count": 15,
   "id": "f1c447bb",
   "metadata": {},
   "outputs": [],
   "source": [
    "def report(**params):\n",
    "    print(params)"
   ]
  },
  {
   "cell_type": "code",
   "execution_count": 16,
   "id": "7d5279e3",
   "metadata": {},
   "outputs": [
    {
     "name": "stdout",
     "output_type": "stream",
     "text": [
      "{'date1': '2022-09-01', 'date2': '2022-09-18'}\n"
     ]
    }
   ],
   "source": [
    "report(date1='2022-09-01', date2='2022-09-18')"
   ]
  },
  {
   "cell_type": "markdown",
   "id": "56fb296e",
   "metadata": {},
   "source": [
    "#### Напишем функцию, которая будет находить среднюю цену квартиры по всем переданным в нее райном города"
   ]
  },
  {
   "cell_type": "code",
   "execution_count": 17,
   "id": "f60eb200",
   "metadata": {},
   "outputs": [],
   "source": [
    "district_1 = {'flat_1': 10500, 'flat_2': 11000}\n",
    "district_2 = {'flat_3': 15000}\n",
    "district_3 = {'flat_4': 6500, 'flat_5': 7000, 'flat_6': 6000}"
   ]
  },
  {
   "cell_type": "code",
   "execution_count": 32,
   "id": "01669927",
   "metadata": {},
   "outputs": [],
   "source": [
    "def avg_price(*district_data):\n",
    "    prices_sum = 0\n",
    "    prices_count = 0\n",
    "    \n",
    "    for data in district_data:\n",
    "        \n",
    "        for price in data.values():\n",
    "            prices_sum += price\n",
    "            prices_count += 1\n",
    "            \n",
    "    if prices_count > 0:\n",
    "        return prices_sum / prices_count"
   ]
  },
  {
   "cell_type": "code",
   "execution_count": 34,
   "id": "5e089ff6",
   "metadata": {},
   "outputs": [
    {
     "data": {
      "text/plain": [
       "9333.333333333334"
      ]
     },
     "execution_count": 34,
     "metadata": {},
     "output_type": "execute_result"
    }
   ],
   "source": [
    "avg_price(district_1, district_2, district_3)"
   ]
  },
  {
   "cell_type": "code",
   "execution_count": null,
   "id": "57985619",
   "metadata": {},
   "outputs": [],
   "source": []
  }
 ],
 "metadata": {
  "kernelspec": {
   "display_name": "Python 3 (ipykernel)",
   "language": "python",
   "name": "python3"
  },
  "language_info": {
   "codemirror_mode": {
    "name": "ipython",
    "version": 3
   },
   "file_extension": ".py",
   "mimetype": "text/x-python",
   "name": "python",
   "nbconvert_exporter": "python",
   "pygments_lexer": "ipython3",
   "version": "3.11.5"
  }
 },
 "nbformat": 4,
 "nbformat_minor": 5
}
