{
 "cells": [
  {
   "cell_type": "markdown",
   "id": "705b149c",
   "metadata": {},
   "source": [
    "### Задание 1\n",
    "Дана переменная, в которой хранится слово из латинских букв. Напишите код, который выводит на экран:\n",
    "\n",
    "* среднюю букву, если число букв в слове нечётное;\n",
    "* две средних буквы, если число букв чётное.\n"
   ]
  },
  {
   "cell_type": "code",
   "execution_count": 7,
   "id": "cdc7c399",
   "metadata": {},
   "outputs": [
    {
     "name": "stdout",
     "output_type": "stream",
     "text": [
      "Enter any word: i\n",
      "Result is i\n"
     ]
    }
   ],
   "source": [
    "word = input('Enter any word: ')\n",
    "\n",
    "if len(word) % 2 == 0:\n",
    "    print(f'Result is {word[len(word) // 2 - 1:len(word) // 2 + 1]}')\n",
    "else:\n",
    "    print(f'Result is {word[len(word) // 2]}')"
   ]
  },
  {
   "cell_type": "markdown",
   "id": "c05f2301",
   "metadata": {},
   "source": [
    "### Задание 2\n",
    "Вы делаете MVP (минимально жизнеспособный продукт) dating-сервиса.\n",
    "У вас есть список юношей и девушек.\n",
    "Выдвигаем гипотезу: лучшие рекомендации получатся, если просто отсортировать имена по алфавиту и познакомить людей с одинаковыми индексами после сортировки. Но вы не будете никого знакомить, если кто-то может остаться без пары."
   ]
  },
  {
   "cell_type": "code",
   "execution_count": 14,
   "id": "5474fe5c",
   "metadata": {},
   "outputs": [],
   "source": [
    "boys = ['Peter', 'Alex', 'John', 'Arthur', 'Richard'] \n",
    "girls = ['Kate', 'Liza', 'Kira', 'Emma', 'Trisha'] "
   ]
  },
  {
   "cell_type": "code",
   "execution_count": 15,
   "id": "1d21eb8b",
   "metadata": {},
   "outputs": [],
   "source": [
    "boys.sort()\n",
    "girls.sort()"
   ]
  },
  {
   "cell_type": "code",
   "execution_count": 19,
   "id": "1e1fd5cd",
   "metadata": {},
   "outputs": [
    {
     "name": "stdout",
     "output_type": "stream",
     "text": [
      "Идеальные пары:\n",
      "Alex и Emma\n",
      "Arthur и Kate\n",
      "John и Kira\n",
      "Peter и Liza\n",
      "Richard и Trisha\n"
     ]
    }
   ],
   "source": [
    "if len(boys) != len(girls):\n",
    "    print('Результат: \\nВнимание, кто-то может остаться без пары!')\n",
    "else:\n",
    "    perfect_couples = list(zip(boys, girls))\n",
    "    print(f'Идеальные пары:')\n",
    "    for i in perfect_couples:\n",
    "        print(f'{i[0]} и {i[1]}')"
   ]
  },
  {
   "cell_type": "code",
   "execution_count": 20,
   "id": "36402bd8",
   "metadata": {},
   "outputs": [],
   "source": [
    "boys = ['Peter', 'Alex', 'John', 'Arthur', 'Richard', 'Michael'] \n",
    "girls = ['Kate', 'Liza', 'Kira', 'Emma', 'Trisha'] "
   ]
  },
  {
   "cell_type": "code",
   "execution_count": 21,
   "id": "b26a87f9",
   "metadata": {},
   "outputs": [
    {
     "name": "stdout",
     "output_type": "stream",
     "text": [
      "Результат: \n",
      "Внимание, кто-то может остаться без пары!\n"
     ]
    }
   ],
   "source": [
    "if len(boys) != len(girls):\n",
    "    print('Результат: \\nВнимание, кто-то может остаться без пары!')\n",
    "else:\n",
    "    perfect_couples = list(zip(boys, girls))\n",
    "    print(f'Идеальные пары:')\n",
    "    for i in perfect_couples:\n",
    "        print(f'{i[0]} и {i[1]}')"
   ]
  }
 ],
 "metadata": {
  "kernelspec": {
   "display_name": "Python 3 (ipykernel)",
   "language": "python",
   "name": "python3"
  },
  "language_info": {
   "codemirror_mode": {
    "name": "ipython",
    "version": 3
   },
   "file_extension": ".py",
   "mimetype": "text/x-python",
   "name": "python",
   "nbconvert_exporter": "python",
   "pygments_lexer": "ipython3",
   "version": "3.11.5"
  }
 },
 "nbformat": 4,
 "nbformat_minor": 5
}
