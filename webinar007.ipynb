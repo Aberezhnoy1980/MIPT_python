{
 "cells": [
  {
   "cell_type": "code",
   "execution_count": 3,
   "id": "2cf3598b",
   "metadata": {},
   "outputs": [],
   "source": [
    "import requests\n",
    "\n",
    "full_data = requests.get('https://www.cbr-xml-daily.ru/daily_json.js').json()\n",
    "usd = full_data['Valute']['USD']['Value']"
   ]
  },
  {
   "cell_type": "code",
   "execution_count": 5,
   "id": "58acd889",
   "metadata": {},
   "outputs": [],
   "source": [
    "def usd():\n",
    "    \"\"\"Return dollar course for today\"\"\"\n",
    "    \n",
    "    full_data = requests.get('https://www.cbr-xml-daily.ru/daily_json.js').json()\n",
    "    return full_data['Valute']['USD']['Value']"
   ]
  },
  {
   "cell_type": "code",
   "execution_count": 6,
   "id": "6a814cd6",
   "metadata": {},
   "outputs": [
    {
     "data": {
      "text/plain": [
       "93.2435"
      ]
     },
     "execution_count": 6,
     "metadata": {},
     "output_type": "execute_result"
    }
   ],
   "source": [
    "usd()"
   ]
  },
  {
   "cell_type": "markdown",
   "id": "8909a8fa",
   "metadata": {},
   "source": [
    "### Class\n",
    "\n",
    "Пример использования переменной в разных методах"
   ]
  },
  {
   "cell_type": "code",
   "execution_count": 5,
   "id": "2e2a81ed",
   "metadata": {},
   "outputs": [],
   "source": [
    "class AnyName:\n",
    "    def method_1(self):\n",
    "        self.currency = 'usd'\n",
    "        \n",
    "    def method_2(self):\n",
    "        print(self.currency)"
   ]
  },
  {
   "cell_type": "code",
   "execution_count": 8,
   "id": "b0025ec0",
   "metadata": {},
   "outputs": [],
   "source": [
    "a = AnyName()"
   ]
  },
  {
   "cell_type": "code",
   "execution_count": 12,
   "id": "5d96d35b",
   "metadata": {},
   "outputs": [],
   "source": [
    "from datetime import datetime"
   ]
  },
  {
   "cell_type": "code",
   "execution_count": 13,
   "id": "5357b952",
   "metadata": {},
   "outputs": [
    {
     "data": {
      "text/plain": [
       "<method 'strftime' of 'datetime.date' objects>"
      ]
     },
     "execution_count": 13,
     "metadata": {},
     "output_type": "execute_result"
    }
   ],
   "source": [
    "datetime.strftime"
   ]
  },
  {
   "cell_type": "code",
   "execution_count": 9,
   "id": "401e8db0",
   "metadata": {},
   "outputs": [],
   "source": [
    "a.method_1()"
   ]
  },
  {
   "cell_type": "code",
   "execution_count": 10,
   "id": "a1f80ffb",
   "metadata": {},
   "outputs": [
    {
     "data": {
      "text/plain": [
       "'usd'"
      ]
     },
     "execution_count": 10,
     "metadata": {},
     "output_type": "execute_result"
    }
   ],
   "source": [
    "a.currency"
   ]
  },
  {
   "cell_type": "code",
   "execution_count": 11,
   "id": "2d1a9bfc",
   "metadata": {},
   "outputs": [
    {
     "name": "stdout",
     "output_type": "stream",
     "text": [
      "usd\n"
     ]
    }
   ],
   "source": [
    "a.method_2()"
   ]
  },
  {
   "cell_type": "code",
   "execution_count": null,
   "id": "79861a94",
   "metadata": {},
   "outputs": [],
   "source": []
  },
  {
   "cell_type": "code",
   "execution_count": null,
   "id": "9fb98ae3",
   "metadata": {},
   "outputs": [],
   "source": [
    "b = AnyName()"
   ]
  },
  {
   "cell_type": "markdown",
   "id": "79a92fe4",
   "metadata": {},
   "source": [
    "## Метод init"
   ]
  },
  {
   "cell_type": "code",
   "execution_count": 15,
   "id": "e704acbd",
   "metadata": {},
   "outputs": [],
   "source": [
    "# метод __init__ выполняется при вызове класса\n",
    "\n",
    "class Rate:\n",
    "    def __init__(self):\n",
    "        self.format = 'value'\n",
    "        print(self.format)"
   ]
  },
  {
   "cell_type": "code",
   "execution_count": 16,
   "id": "e6207213",
   "metadata": {},
   "outputs": [
    {
     "name": "stdout",
     "output_type": "stream",
     "text": [
      "value\n"
     ]
    }
   ],
   "source": [
    "r = Rate()"
   ]
  },
  {
   "cell_type": "code",
   "execution_count": 17,
   "id": "eb53f101",
   "metadata": {},
   "outputs": [
    {
     "data": {
      "text/plain": [
       "'value'"
      ]
     },
     "execution_count": 17,
     "metadata": {},
     "output_type": "execute_result"
    }
   ],
   "source": [
    "r.format"
   ]
  },
  {
   "cell_type": "markdown",
   "id": "deffe538",
   "metadata": {},
   "source": [
    "## Класс для курса валют"
   ]
  },
  {
   "cell_type": "code",
   "execution_count": 18,
   "id": "5f36f9b7",
   "metadata": {},
   "outputs": [],
   "source": [
    "class Rate:\n",
    "    def __init__(self):\n",
    "        self.format = 'value'\n",
    "        \n",
    "    def show_current_format(self):\n",
    "        return self.format"
   ]
  },
  {
   "cell_type": "code",
   "execution_count": 19,
   "id": "2be5bb62",
   "metadata": {},
   "outputs": [],
   "source": [
    "r = Rate()"
   ]
  },
  {
   "cell_type": "code",
   "execution_count": 20,
   "id": "3834411a",
   "metadata": {},
   "outputs": [
    {
     "data": {
      "text/plain": [
       "'value'"
      ]
     },
     "execution_count": 20,
     "metadata": {},
     "output_type": "execute_result"
    }
   ],
   "source": [
    "r.show_current_format()"
   ]
  },
  {
   "cell_type": "markdown",
   "id": "5108610e",
   "metadata": {},
   "source": [
    "Пример инициализации со значением переменной"
   ]
  },
  {
   "cell_type": "code",
   "execution_count": 21,
   "id": "231b85ab",
   "metadata": {},
   "outputs": [],
   "source": [
    "class Rate:\n",
    "    def __init__(self, format_):\n",
    "        self.format = format_\n",
    "        \n",
    "    def show_current_format(self):\n",
    "        return self.format"
   ]
  },
  {
   "cell_type": "code",
   "execution_count": 22,
   "id": "12145056",
   "metadata": {},
   "outputs": [],
   "source": [
    "r = Rate(format_='value')"
   ]
  },
  {
   "cell_type": "code",
   "execution_count": 23,
   "id": "f455952a",
   "metadata": {},
   "outputs": [
    {
     "data": {
      "text/plain": [
       "'value'"
      ]
     },
     "execution_count": 23,
     "metadata": {},
     "output_type": "execute_result"
    }
   ],
   "source": [
    "r.show_current_format()"
   ]
  },
  {
   "cell_type": "markdown",
   "id": "fda46073",
   "metadata": {},
   "source": [
    "Или сразу со значением по умолчанию"
   ]
  },
  {
   "cell_type": "code",
   "execution_count": 24,
   "id": "2e56317c",
   "metadata": {},
   "outputs": [],
   "source": [
    "class Rate:\n",
    "    def __init__(self, format_='value'):\n",
    "        self.format = format_\n",
    "        \n",
    "    def show_current_format(self):\n",
    "        return self.format"
   ]
  },
  {
   "cell_type": "code",
   "execution_count": 25,
   "id": "d4de3b70",
   "metadata": {},
   "outputs": [],
   "source": [
    "r = Rate()"
   ]
  },
  {
   "cell_type": "code",
   "execution_count": 26,
   "id": "79c67de0",
   "metadata": {},
   "outputs": [
    {
     "data": {
      "text/plain": [
       "'value'"
      ]
     },
     "execution_count": 26,
     "metadata": {},
     "output_type": "execute_result"
    }
   ],
   "source": [
    "r.show_current_format()"
   ]
  },
  {
   "cell_type": "code",
   "execution_count": 27,
   "id": "69074ba2",
   "metadata": {},
   "outputs": [
    {
     "data": {
      "text/plain": [
       "'full'"
      ]
     },
     "execution_count": 27,
     "metadata": {},
     "output_type": "execute_result"
    }
   ],
   "source": [
    "r_full = Rate(format_='full')\n",
    "r_full.show_current_format()"
   ]
  },
  {
   "cell_type": "code",
   "execution_count": 28,
   "id": "81a097a3",
   "metadata": {},
   "outputs": [
    {
     "data": {
      "text/plain": [
       "'full_123'"
      ]
     },
     "execution_count": 28,
     "metadata": {},
     "output_type": "execute_result"
    }
   ],
   "source": [
    "r.format = 'full_123'\n",
    "r.show_current_format()"
   ]
  },
  {
   "cell_type": "markdown",
   "id": "209d1140",
   "metadata": {},
   "source": [
    "## Задача\n",
    "\n",
    "Создайте класс сотрудника Employee. При инициализации класса задается имя сотрудника name и его текущая\n",
    "зарплата salary. Напишите следующие методы\n",
    "\n",
    "1. Метод up, который увеличивает зарплату сотрудника на 100\n",
    "2. Метод print, который выводит на экран екущую зарплату сотрудника в формате \"Сотрудник Иван, зарплата 100\""
   ]
  },
  {
   "cell_type": "code",
   "execution_count": 47,
   "id": "28be309f",
   "metadata": {},
   "outputs": [],
   "source": [
    "class Employee:\n",
    "    def __init__(self, name, salary):\n",
    "        self.name = name\n",
    "        self.salary = salary\n",
    "        \n",
    "    def up(self):\n",
    "        self.salary += 100\n",
    "        \n",
    "    def print_(self):\n",
    "        print('Сотрудник {}, зарплата {}'.format(self.name, self.salary))"
   ]
  },
  {
   "cell_type": "code",
   "execution_count": 48,
   "id": "5cdc4e6e",
   "metadata": {},
   "outputs": [],
   "source": [
    "ivan = Employee(name='Иван', salary=50)"
   ]
  },
  {
   "cell_type": "code",
   "execution_count": 52,
   "id": "20edcaaa",
   "metadata": {},
   "outputs": [
    {
     "name": "stdout",
     "output_type": "stream",
     "text": [
      "Сотрудник Иван, зарплата 150\n"
     ]
    }
   ],
   "source": [
    "ivan.print_()"
   ]
  },
  {
   "cell_type": "code",
   "execution_count": 57,
   "id": "104e4517",
   "metadata": {},
   "outputs": [
    {
     "name": "stdout",
     "output_type": "stream",
     "text": [
      "Сотрудник Иван, зарплата 650\n"
     ]
    }
   ],
   "source": [
    "ivan.up()\n",
    "\n",
    "ivan.print_()"
   ]
  },
  {
   "cell_type": "code",
   "execution_count": 63,
   "id": "3cbf8617",
   "metadata": {},
   "outputs": [],
   "source": [
    "elena = Employee(name='Elena', salary=300)"
   ]
  },
  {
   "cell_type": "code",
   "execution_count": 64,
   "id": "79d15305",
   "metadata": {},
   "outputs": [
    {
     "name": "stdout",
     "output_type": "stream",
     "text": [
      "Сотрудник Elena, зарплата 300\n"
     ]
    }
   ],
   "source": [
    "elena.print_()"
   ]
  },
  {
   "cell_type": "code",
   "execution_count": 66,
   "id": "d265b91c",
   "metadata": {},
   "outputs": [
    {
     "name": "stdout",
     "output_type": "stream",
     "text": [
      "Сотрудник Elena, зарплата 500\n"
     ]
    }
   ],
   "source": [
    "elena.up()\n",
    "\n",
    "elena.print_()"
   ]
  },
  {
   "cell_type": "markdown",
   "id": "b89a251f",
   "metadata": {},
   "source": [
    "### Полная версия класса"
   ]
  },
  {
   "cell_type": "code",
   "execution_count": 67,
   "id": "d9845c05",
   "metadata": {},
   "outputs": [],
   "source": [
    "import requests"
   ]
  },
  {
   "cell_type": "code",
   "execution_count": 79,
   "id": "6266d533",
   "metadata": {},
   "outputs": [],
   "source": [
    "class Rate:\n",
    "    def __init__(self, format_='value'):\n",
    "        self.format = format_\n",
    "\n",
    "    def exchange_rates(self):\n",
    "        self.r = requests.get('https://www.cbr-xml-daily.ru/daily_json.js')\n",
    "        return self.r.json()['Valute']\n",
    "\n",
    "    def make_format(self, currency):\n",
    "        response = self.exchange_rates()\n",
    "        if currency in response:\n",
    "            if self.format == 'full':\n",
    "                return response[currency]\n",
    "            if self.format == 'value':\n",
    "                return response[currency]['Value']\n",
    "        return 'Error'\n",
    "                              \n",
    "    def eur(self):\n",
    "        return self.make_format('EUR')\n",
    "     \n",
    "    def usd(self):\n",
    "        return self.make_format('USD')\n",
    "                              \n",
    "    def brl(self):\n",
    "        return self.make_format('BRL')"
   ]
  },
  {
   "cell_type": "code",
   "execution_count": 80,
   "id": "fea0b562",
   "metadata": {},
   "outputs": [],
   "source": [
    "r = Rate(format_='full')"
   ]
  },
  {
   "cell_type": "code",
   "execution_count": 81,
   "id": "54e91407",
   "metadata": {},
   "outputs": [
    {
     "data": {
      "text/plain": [
       "{'ID': 'R01235',\n",
       " 'NumCode': '840',\n",
       " 'CharCode': 'USD',\n",
       " 'Nominal': 1,\n",
       " 'Name': 'Доллар США',\n",
       " 'Value': 93.2801,\n",
       " 'Previous': 92.0226}"
      ]
     },
     "execution_count": 81,
     "metadata": {},
     "output_type": "execute_result"
    }
   ],
   "source": [
    "r.usd()"
   ]
  },
  {
   "cell_type": "code",
   "execution_count": 82,
   "id": "28f99d9d",
   "metadata": {},
   "outputs": [
    {
     "data": {
      "text/plain": [
       "{'AUD': {'ID': 'R01010',\n",
       "  'NumCode': '036',\n",
       "  'CharCode': 'AUD',\n",
       "  'Nominal': 1,\n",
       "  'Name': 'Австралийский доллар',\n",
       "  'Value': 59.065,\n",
       "  'Previous': 58.3975},\n",
       " 'AZN': {'ID': 'R01020A',\n",
       "  'NumCode': '944',\n",
       "  'CharCode': 'AZN',\n",
       "  'Nominal': 1,\n",
       "  'Name': 'Азербайджанский манат',\n",
       "  'Value': 54.8706,\n",
       "  'Previous': 54.1309},\n",
       " 'GBP': {'ID': 'R01035',\n",
       "  'NumCode': '826',\n",
       "  'CharCode': 'GBP',\n",
       "  'Nominal': 1,\n",
       "  'Name': 'Фунт стерлингов Соединенного королевства',\n",
       "  'Value': 113.1861,\n",
       "  'Previous': 111.8627},\n",
       " 'AMD': {'ID': 'R01060',\n",
       "  'NumCode': '051',\n",
       "  'CharCode': 'AMD',\n",
       "  'Nominal': 100,\n",
       "  'Name': 'Армянских драмов',\n",
       "  'Value': 23.1815,\n",
       "  'Previous': 22.8344},\n",
       " 'BYN': {'ID': 'R01090B',\n",
       "  'NumCode': '933',\n",
       "  'CharCode': 'BYN',\n",
       "  'Nominal': 1,\n",
       "  'Name': 'Белорусский рубль',\n",
       "  'Value': 29.1519,\n",
       "  'Previous': 29.1027},\n",
       " 'BGN': {'ID': 'R01100',\n",
       "  'NumCode': '975',\n",
       "  'CharCode': 'BGN',\n",
       "  'Nominal': 1,\n",
       "  'Name': 'Болгарский лев',\n",
       "  'Value': 50.6462,\n",
       "  'Previous': 49.8957},\n",
       " 'BRL': {'ID': 'R01115',\n",
       "  'NumCode': '986',\n",
       "  'CharCode': 'BRL',\n",
       "  'Nominal': 1,\n",
       "  'Name': 'Бразильский реал',\n",
       "  'Value': 18.445,\n",
       "  'Previous': 18.3784},\n",
       " 'HUF': {'ID': 'R01135',\n",
       "  'NumCode': '348',\n",
       "  'CharCode': 'HUF',\n",
       "  'Nominal': 100,\n",
       "  'Name': 'Венгерских форинтов',\n",
       "  'Value': 26.0174,\n",
       "  'Previous': 25.6666},\n",
       " 'VND': {'ID': 'R01150',\n",
       "  'NumCode': '704',\n",
       "  'CharCode': 'VND',\n",
       "  'Nominal': 10000,\n",
       "  'Name': 'Вьетнамских донгов',\n",
       "  'Value': 38.7231,\n",
       "  'Previous': 38.2043},\n",
       " 'HKD': {'ID': 'R01200',\n",
       "  'NumCode': '344',\n",
       "  'CharCode': 'HKD',\n",
       "  'Nominal': 1,\n",
       "  'Name': 'Гонконгский доллар',\n",
       "  'Value': 11.9437,\n",
       "  'Previous': 11.7842},\n",
       " 'GEL': {'ID': 'R01210',\n",
       "  'NumCode': '981',\n",
       "  'CharCode': 'GEL',\n",
       "  'Nominal': 1,\n",
       "  'Name': 'Грузинский лари',\n",
       "  'Value': 34.4474,\n",
       "  'Previous': 34.022},\n",
       " 'DKK': {'ID': 'R01215',\n",
       "  'NumCode': '208',\n",
       "  'CharCode': 'DKK',\n",
       "  'Nominal': 1,\n",
       "  'Name': 'Датская крона',\n",
       "  'Value': 13.2696,\n",
       "  'Previous': 13.0749},\n",
       " 'AED': {'ID': 'R01230',\n",
       "  'NumCode': '784',\n",
       "  'CharCode': 'AED',\n",
       "  'Nominal': 1,\n",
       "  'Name': 'Дирхам ОАЭ',\n",
       "  'Value': 25.3962,\n",
       "  'Previous': 25.0538},\n",
       " 'USD': {'ID': 'R01235',\n",
       "  'NumCode': '840',\n",
       "  'CharCode': 'USD',\n",
       "  'Nominal': 1,\n",
       "  'Name': 'Доллар США',\n",
       "  'Value': 93.2801,\n",
       "  'Previous': 92.0226},\n",
       " 'EUR': {'ID': 'R01239',\n",
       "  'NumCode': '978',\n",
       "  'CharCode': 'EUR',\n",
       "  'Nominal': 1,\n",
       "  'Name': 'Евро',\n",
       "  'Value': 98.4365,\n",
       "  'Previous': 97.9345},\n",
       " 'EGP': {'ID': 'R01240',\n",
       "  'NumCode': '818',\n",
       "  'CharCode': 'EGP',\n",
       "  'Nominal': 10,\n",
       "  'Name': 'Египетских фунтов',\n",
       "  'Value': 30.1944,\n",
       "  'Previous': 29.7873},\n",
       " 'INR': {'ID': 'R01270',\n",
       "  'NumCode': '356',\n",
       "  'CharCode': 'INR',\n",
       "  'Nominal': 10,\n",
       "  'Name': 'Индийских рупий',\n",
       "  'Value': 11.218,\n",
       "  'Previous': 11.0649},\n",
       " 'IDR': {'ID': 'R01280',\n",
       "  'NumCode': '360',\n",
       "  'CharCode': 'IDR',\n",
       "  'Nominal': 10000,\n",
       "  'Name': 'Индонезийских рупий',\n",
       "  'Value': 58.6778,\n",
       "  'Previous': 57.8177},\n",
       " 'KZT': {'ID': 'R01335',\n",
       "  'NumCode': '398',\n",
       "  'CharCode': 'KZT',\n",
       "  'Nominal': 100,\n",
       "  'Name': 'Казахстанских тенге',\n",
       "  'Value': 19.8608,\n",
       "  'Previous': 19.5017},\n",
       " 'CAD': {'ID': 'R01350',\n",
       "  'NumCode': '124',\n",
       "  'CharCode': 'CAD',\n",
       "  'Nominal': 1,\n",
       "  'Name': 'Канадский доллар',\n",
       "  'Value': 67.2483,\n",
       "  'Previous': 66.524},\n",
       " 'QAR': {'ID': 'R01355',\n",
       "  'NumCode': '634',\n",
       "  'CharCode': 'QAR',\n",
       "  'Nominal': 1,\n",
       "  'Name': 'Катарский риал',\n",
       "  'Value': 25.6264,\n",
       "  'Previous': 25.2809},\n",
       " 'KGS': {'ID': 'R01370',\n",
       "  'NumCode': '417',\n",
       "  'CharCode': 'KGS',\n",
       "  'Nominal': 10,\n",
       "  'Name': 'Киргизских сомов',\n",
       "  'Value': 10.4434,\n",
       "  'Previous': 10.3027},\n",
       " 'CNY': {'ID': 'R01375',\n",
       "  'NumCode': '156',\n",
       "  'CharCode': 'CNY',\n",
       "  'Nominal': 1,\n",
       "  'Name': 'Китайский юань',\n",
       "  'Value': 12.7052,\n",
       "  'Previous': 12.5339},\n",
       " 'MDL': {'ID': 'R01500',\n",
       "  'NumCode': '498',\n",
       "  'CharCode': 'MDL',\n",
       "  'Nominal': 10,\n",
       "  'Name': 'Молдавских леев',\n",
       "  'Value': 51.3634,\n",
       "  'Previous': 50.6872},\n",
       " 'NZD': {'ID': 'R01530',\n",
       "  'NumCode': '554',\n",
       "  'CharCode': 'NZD',\n",
       "  'Nominal': 1,\n",
       "  'Name': 'Новозеландский доллар',\n",
       "  'Value': 54.1025,\n",
       "  'Previous': 53.7228},\n",
       " 'NOK': {'ID': 'R01535',\n",
       "  'NumCode': '578',\n",
       "  'CharCode': 'NOK',\n",
       "  'Nominal': 10,\n",
       "  'Name': 'Норвежских крон',\n",
       "  'Value': 83.2776,\n",
       "  'Previous': 82.6501},\n",
       " 'PLN': {'ID': 'R01565',\n",
       "  'NumCode': '985',\n",
       "  'CharCode': 'PLN',\n",
       "  'Nominal': 1,\n",
       "  'Name': 'Польский злотый',\n",
       "  'Value': 22.0421,\n",
       "  'Previous': 22.0831},\n",
       " 'RON': {'ID': 'R01585F',\n",
       "  'NumCode': '946',\n",
       "  'CharCode': 'RON',\n",
       "  'Nominal': 1,\n",
       "  'Name': 'Румынский лей',\n",
       "  'Value': 19.8106,\n",
       "  'Previous': 19.7537},\n",
       " 'XDR': {'ID': 'R01589',\n",
       "  'NumCode': '960',\n",
       "  'CharCode': 'XDR',\n",
       "  'Nominal': 1,\n",
       "  'Name': 'СДР (специальные права заимствования)',\n",
       "  'Value': 122.5831,\n",
       "  'Previous': 120.706},\n",
       " 'SGD': {'ID': 'R01625',\n",
       "  'NumCode': '702',\n",
       "  'CharCode': 'SGD',\n",
       "  'Nominal': 1,\n",
       "  'Name': 'Сингапурский доллар',\n",
       "  'Value': 68.0926,\n",
       "  'Previous': 67.3221},\n",
       " 'TJS': {'ID': 'R01670',\n",
       "  'NumCode': '972',\n",
       "  'CharCode': 'TJS',\n",
       "  'Nominal': 10,\n",
       "  'Name': 'Таджикских сомони',\n",
       "  'Value': 85.1663,\n",
       "  'Previous': 83.9898},\n",
       " 'THB': {'ID': 'R01675',\n",
       "  'NumCode': '764',\n",
       "  'CharCode': 'THB',\n",
       "  'Nominal': 10,\n",
       "  'Name': 'Таиландских батов',\n",
       "  'Value': 25.7482,\n",
       "  'Previous': 25.5761},\n",
       " 'TRY': {'ID': 'R01700J',\n",
       "  'NumCode': '949',\n",
       "  'CharCode': 'TRY',\n",
       "  'Nominal': 10,\n",
       "  'Name': 'Турецких лир',\n",
       "  'Value': 33.0055,\n",
       "  'Previous': 32.5977},\n",
       " 'TMT': {'ID': 'R01710A',\n",
       "  'NumCode': '934',\n",
       "  'CharCode': 'TMT',\n",
       "  'Nominal': 1,\n",
       "  'Name': 'Новый туркменский манат',\n",
       "  'Value': 26.6515,\n",
       "  'Previous': 26.2922},\n",
       " 'UZS': {'ID': 'R01717',\n",
       "  'NumCode': '860',\n",
       "  'CharCode': 'UZS',\n",
       "  'Nominal': 10000,\n",
       "  'Name': 'Узбекских сумов',\n",
       "  'Value': 76.244,\n",
       "  'Previous': 75.3097},\n",
       " 'UAH': {'ID': 'R01720',\n",
       "  'NumCode': '980',\n",
       "  'CharCode': 'UAH',\n",
       "  'Nominal': 10,\n",
       "  'Name': 'Украинских гривен',\n",
       "  'Value': 25.641,\n",
       "  'Previous': 25.3715},\n",
       " 'CZK': {'ID': 'R01760',\n",
       "  'NumCode': '203',\n",
       "  'CharCode': 'CZK',\n",
       "  'Nominal': 10,\n",
       "  'Name': 'Чешских крон',\n",
       "  'Value': 40.3199,\n",
       "  'Previous': 39.7026},\n",
       " 'SEK': {'ID': 'R01770',\n",
       "  'NumCode': '752',\n",
       "  'CharCode': 'SEK',\n",
       "  'Nominal': 10,\n",
       "  'Name': 'Шведских крон',\n",
       "  'Value': 83.4385,\n",
       "  'Previous': 82.7482},\n",
       " 'CHF': {'ID': 'R01775',\n",
       "  'NumCode': '756',\n",
       "  'CharCode': 'CHF',\n",
       "  'Nominal': 1,\n",
       "  'Name': 'Швейцарский франк',\n",
       "  'Value': 104.6328,\n",
       "  'Previous': 103.095},\n",
       " 'RSD': {'ID': 'R01805F',\n",
       "  'NumCode': '941',\n",
       "  'CharCode': 'RSD',\n",
       "  'Nominal': 100,\n",
       "  'Name': 'Сербских динаров',\n",
       "  'Value': 84.1486,\n",
       "  'Previous': 83.2523},\n",
       " 'ZAR': {'ID': 'R01810',\n",
       "  'NumCode': '710',\n",
       "  'CharCode': 'ZAR',\n",
       "  'Nominal': 10,\n",
       "  'Name': 'Южноафриканских рэндов',\n",
       "  'Value': 49.7983,\n",
       "  'Previous': 48.944},\n",
       " 'KRW': {'ID': 'R01815',\n",
       "  'NumCode': '410',\n",
       "  'CharCode': 'KRW',\n",
       "  'Nominal': 1000,\n",
       "  'Name': 'Вон Республики Корея',\n",
       "  'Value': 68.7247,\n",
       "  'Previous': 68.1397},\n",
       " 'JPY': {'ID': 'R01820',\n",
       "  'NumCode': '392',\n",
       "  'CharCode': 'JPY',\n",
       "  'Nominal': 100,\n",
       "  'Name': 'Японских иен',\n",
       "  'Value': 61.6524,\n",
       "  'Previous': 61.5742}}"
      ]
     },
     "execution_count": 82,
     "metadata": {},
     "output_type": "execute_result"
    }
   ],
   "source": [
    "r.exchange_rates()"
   ]
  },
  {
   "cell_type": "code",
   "execution_count": 83,
   "id": "c0c2c25a",
   "metadata": {},
   "outputs": [],
   "source": [
    "r = Rate()"
   ]
  },
  {
   "cell_type": "code",
   "execution_count": 84,
   "id": "00d03dc9",
   "metadata": {},
   "outputs": [
    {
     "data": {
      "text/plain": [
       "93.2801"
      ]
     },
     "execution_count": 84,
     "metadata": {},
     "output_type": "execute_result"
    }
   ],
   "source": [
    "r.usd()"
   ]
  },
  {
   "cell_type": "markdown",
   "id": "1c395416",
   "metadata": {},
   "source": [
    "### Наследование\n",
    "Разработчикам финансового департамента помимо курса надо работать с коддами валют. Как сохранить рахработку класса Rate у нас, а полезные функции передать финасистам?"
   ]
  },
  {
   "cell_type": "code",
   "execution_count": 100,
   "id": "91b40b62",
   "metadata": {},
   "outputs": [],
   "source": [
    "class CurrencyCodes(Rate):\n",
    "    def __init__(self):\n",
    "        super().__init__(format_='full')"
   ]
  },
  {
   "cell_type": "markdown",
   "id": "d2c61661",
   "metadata": {},
   "source": [
    "Теперь классу CurrencyCodes доступны все методы класса Rate. Можем продолжать разработку в нужном направлении."
   ]
  },
  {
   "cell_type": "code",
   "execution_count": 101,
   "id": "84d9c542",
   "metadata": {},
   "outputs": [],
   "source": [
    "cc = CurrencyCodes()"
   ]
  },
  {
   "cell_type": "code",
   "execution_count": 102,
   "id": "d4670328",
   "metadata": {},
   "outputs": [
    {
     "data": {
      "text/plain": [
       "{'ID': 'R01235',\n",
       " 'NumCode': '840',\n",
       " 'CharCode': 'USD',\n",
       " 'Nominal': 1,\n",
       " 'Name': 'Доллар США',\n",
       " 'Value': 93.2801,\n",
       " 'Previous': 92.0226}"
      ]
     },
     "execution_count": 102,
     "metadata": {},
     "output_type": "execute_result"
    }
   ],
   "source": [
    "CurrencyCodes().usd()"
   ]
  },
  {
   "cell_type": "markdown",
   "id": "4133f484",
   "metadata": {},
   "source": [
    "Допишем в класс что-нибудь новенькое"
   ]
  },
  {
   "cell_type": "code",
   "execution_count": 108,
   "id": "55c9b122",
   "metadata": {},
   "outputs": [],
   "source": [
    "class CurrencyCodes(Rate):\n",
    "    def __init__(self):\n",
    "        super().__init__(format_='full')\n",
    "        \n",
    "    def currency_id(self, currency):\n",
    "        return self.make_format(currency)['ID']"
   ]
  },
  {
   "cell_type": "code",
   "execution_count": 109,
   "id": "b8c2668f",
   "metadata": {},
   "outputs": [],
   "source": [
    "currency = CurrencyCodes()"
   ]
  },
  {
   "cell_type": "code",
   "execution_count": 110,
   "id": "ae8d2b8c",
   "metadata": {},
   "outputs": [
    {
     "data": {
      "text/plain": [
       "'R01235'"
      ]
     },
     "execution_count": 110,
     "metadata": {},
     "output_type": "execute_result"
    }
   ],
   "source": [
    "currency.currency_id('USD')"
   ]
  },
  {
   "cell_type": "markdown",
   "id": "f4d05b22",
   "metadata": {},
   "source": [
    "### Система повышения сотрудников"
   ]
  },
  {
   "cell_type": "code",
   "execution_count": 135,
   "id": "baa4fc1a",
   "metadata": {},
   "outputs": [],
   "source": [
    "class Employee:\n",
    "    def __init__(self, name, seniority):\n",
    "        self.name = name\n",
    "        self.seniority = seniority\n",
    "        \n",
    "        self.grade = 1\n",
    "        \n",
    "    def grade_up(self):\n",
    "        self.grade += 1\n",
    "        \n",
    "    def publish_grade(self):\n",
    "        print(self.name, self.grade)\n",
    "        \n",
    "    def check_if_it_is_time_for_upgrade(self):\n",
    "        pass"
   ]
  },
  {
   "cell_type": "code",
   "execution_count": 136,
   "id": "6c6f50c4",
   "metadata": {},
   "outputs": [],
   "source": [
    "class Developer(Employee):\n",
    "    def __init__(self, name, seniority):\n",
    "        super().__init__(name, seniority)\n",
    "        \n",
    "    def check_if_it_is_time_for_upgrade(self):\n",
    "        self.seniority += 1\n",
    "        \n",
    "        if self.seniority % 5 == 0:\n",
    "            self.grade_up()\n",
    "            \n",
    "        return self.publish_grade()"
   ]
  },
  {
   "cell_type": "code",
   "execution_count": 139,
   "id": "2d67acd5",
   "metadata": {},
   "outputs": [],
   "source": [
    "alex = Developer('Александр', 0)"
   ]
  },
  {
   "cell_type": "code",
   "execution_count": 140,
   "id": "29c07552",
   "metadata": {},
   "outputs": [
    {
     "name": "stdout",
     "output_type": "stream",
     "text": [
      "Александр 1\n",
      "Александр 1\n",
      "Александр 1\n",
      "Александр 1\n",
      "Александр 2\n",
      "Александр 2\n",
      "Александр 2\n",
      "Александр 2\n",
      "Александр 2\n",
      "Александр 3\n",
      "Александр 3\n",
      "Александр 3\n",
      "Александр 3\n",
      "Александр 3\n",
      "Александр 4\n",
      "Александр 4\n",
      "Александр 4\n",
      "Александр 4\n",
      "Александр 4\n",
      "Александр 5\n"
     ]
    }
   ],
   "source": [
    "for i in range(20):\n",
    "    alex.check_if_it_is_time_for_upgrade()"
   ]
  },
  {
   "cell_type": "markdown",
   "id": "31b6f997",
   "metadata": {},
   "source": [
    "### Импорт классов и функций"
   ]
  },
  {
   "cell_type": "markdown",
   "id": "23c84584",
   "metadata": {},
   "source": [
    "### Практика"
   ]
  },
  {
   "cell_type": "code",
   "execution_count": 9,
   "id": "ac0c5c6f",
   "metadata": {},
   "outputs": [],
   "source": [
    "class AnyClass:\n",
    "    def __init__(self, currency='BLR'):\n",
    "        print('выполняется при обращении к классу')\n",
    "        # создаем все атрибуты, которые нужны для работы\n",
    "        self.currency = currency\n",
    "        \n",
    "        self._api_version = '5v.31'\n",
    "        self.__secret_attr = '123'\n",
    "        \n",
    "        self.price = 100\n",
    "        self.discount = 0.1\n",
    "        \n",
    "    def method_1(self):\n",
    "        self.currency = 'RUB'\n",
    "     \n",
    "    def method_2(self):\n",
    "        print(self.currency)\n",
    "        \n",
    "    @staticmethod\n",
    "    def useful_func(x, y, z):\n",
    "        \"\"\"Просто функции внутри классов - НЕ используют атрибуты\"\"\"\n",
    "        return x**2 + y**2 + z**2\n",
    "    \n",
    "    @property\n",
    "    def price_vat_discount(self):\n",
    "        price_vat = self.price * 1.2\n",
    "\n",
    "        return price_vat * (1 - self.discount)"
   ]
  },
  {
   "cell_type": "code",
   "execution_count": 10,
   "id": "18e40196",
   "metadata": {},
   "outputs": [
    {
     "name": "stdout",
     "output_type": "stream",
     "text": [
      "выполняется при обращении к классу\n"
     ]
    }
   ],
   "source": [
    "a = AnyClass()"
   ]
  },
  {
   "cell_type": "code",
   "execution_count": 12,
   "id": "dfb1bafb",
   "metadata": {},
   "outputs": [
    {
     "data": {
      "text/plain": [
       "108.0"
      ]
     },
     "execution_count": 12,
     "metadata": {},
     "output_type": "execute_result"
    }
   ],
   "source": [
    "a.price_vat_discount"
   ]
  },
  {
   "cell_type": "code",
   "execution_count": 3,
   "id": "2522a57e",
   "metadata": {},
   "outputs": [],
   "source": [
    "a.method_1()"
   ]
  },
  {
   "cell_type": "code",
   "execution_count": 4,
   "id": "b75e3d40",
   "metadata": {},
   "outputs": [
    {
     "data": {
      "text/plain": [
       "14"
      ]
     },
     "execution_count": 4,
     "metadata": {},
     "output_type": "execute_result"
    }
   ],
   "source": [
    "a.useful_func(1, 2, 3)"
   ]
  },
  {
   "cell_type": "code",
   "execution_count": 5,
   "id": "2c07d8fd",
   "metadata": {},
   "outputs": [
    {
     "name": "stdout",
     "output_type": "stream",
     "text": [
      "выполняется при обращении к классу\n"
     ]
    },
    {
     "data": {
      "text/plain": [
       "14"
      ]
     },
     "execution_count": 5,
     "metadata": {},
     "output_type": "execute_result"
    }
   ],
   "source": [
    "AnyClass().useful_func(1, 2, 3)"
   ]
  },
  {
   "cell_type": "code",
   "execution_count": null,
   "id": "093f5ab7",
   "metadata": {},
   "outputs": [],
   "source": [
    "AnyClass()."
   ]
  },
  {
   "cell_type": "code",
   "execution_count": 174,
   "id": "ce63fd4d",
   "metadata": {},
   "outputs": [
    {
     "data": {
      "text/plain": [
       "'RUB'"
      ]
     },
     "execution_count": 174,
     "metadata": {},
     "output_type": "execute_result"
    }
   ],
   "source": [
    "a.currency"
   ]
  },
  {
   "cell_type": "code",
   "execution_count": 175,
   "id": "6457f75d",
   "metadata": {},
   "outputs": [],
   "source": [
    "a.currency = 'EUR'"
   ]
  },
  {
   "cell_type": "code",
   "execution_count": 176,
   "id": "05545c0e",
   "metadata": {},
   "outputs": [
    {
     "name": "stdout",
     "output_type": "stream",
     "text": [
      "EUR\n"
     ]
    }
   ],
   "source": [
    "a.method_2()"
   ]
  },
  {
   "cell_type": "code",
   "execution_count": 142,
   "id": "06a908e7",
   "metadata": {},
   "outputs": [],
   "source": [
    "def func_1():\n",
    "    x = 1\n",
    "    return x + 1"
   ]
  },
  {
   "cell_type": "code",
   "execution_count": 151,
   "id": "69e771af",
   "metadata": {},
   "outputs": [],
   "source": [
    "def func_2(x):\n",
    "    print(x)"
   ]
  },
  {
   "cell_type": "code",
   "execution_count": 152,
   "id": "ee8ebca1",
   "metadata": {},
   "outputs": [],
   "source": [
    "result = func_1()"
   ]
  },
  {
   "cell_type": "code",
   "execution_count": 153,
   "id": "a2091bf1",
   "metadata": {},
   "outputs": [
    {
     "name": "stdout",
     "output_type": "stream",
     "text": [
      "2\n"
     ]
    }
   ],
   "source": [
    "func_2(result)"
   ]
  },
  {
   "cell_type": "markdown",
   "id": "a5c643ac",
   "metadata": {},
   "source": [
    "## Требования к отчету\n",
    "(в хронологическом порядке)"
   ]
  },
  {
   "cell_type": "markdown",
   "id": "36f07c6b",
   "metadata": {},
   "source": [
    "1. Нужен отчет по трафику (визиты оп дням)\n",
    "2. Сделайте таблиицы попроще\n",
    "3. А можно сразу очень много строк получить\n",
    "\n"
   ]
  },
  {
   "cell_type": "code",
   "execution_count": 54,
   "id": "eb7cf621",
   "metadata": {},
   "outputs": [],
   "source": [
    "import requests"
   ]
  },
  {
   "cell_type": "code",
   "execution_count": 55,
   "id": "90d98099",
   "metadata": {},
   "outputs": [],
   "source": [
    "API_URL = 'https://api-metrika.yandex.ru/stat/v1/data'\n",
    "METRIKA_ROWS_LIMIT = 5 # max 100 000\n",
    "\n",
    "DEMO_COUNTER = 44147844"
   ]
  },
  {
   "cell_type": "code",
   "execution_count": 83,
   "id": "23f08d1d",
   "metadata": {},
   "outputs": [],
   "source": [
    "class Metrika:\n",
    "    def __init__(self, token='', counter=DEMO_COUNTER, start_date='2020-09-01', end_date='2020-09-30'):\n",
    "        self.counter = counter\n",
    "        self.limit = METRIKA_ROWS_LIMIT\n",
    "        self.start_date = start_date\n",
    "        self.end_date = end_date\n",
    "       \n",
    "        if token:\n",
    "            self.headers = {'Authorization': 'OAuth ' + token}\n",
    "        else:\n",
    "            self.headers = '' # для демо-счетчика заголовок запроса должен быть пустым\n",
    "            \n",
    "        self.dimensions = '' # строки отчета\n",
    "        self.metrics = '' # столбцы отчета\n",
    "        self.report = [] # сам отчет\n",
    "        \n",
    "    def api_request(self, offset=1):\n",
    "        \"\"\"Запрос к API Метрики, возвращает словарь с отчетом\"\"\"\n",
    "        params = {\n",
    "            'id': self.counter,\n",
    "            'date1': self.start_date,\n",
    "            'date2': self.end_date,\n",
    "            'metrics': self.metrics,\n",
    "            'dimensions': self.dimensions,\n",
    "            'limit': self.limit,\n",
    "            'offset': offset,\n",
    "            'accuracy': 1,\n",
    "        }\n",
    "        \n",
    "        response = requests.get(API_URL, params=params, headers=self.headers)\n",
    "        return response.json()['data']\n",
    "    \n",
    "    def traffic(self):\n",
    "        \"\"\"Отчет по посещаемостии\"\"\"\n",
    "        self.metrics = 'ym:s:visits'\n",
    "        self.dimensions = 'ym:s:date'\n",
    "        \n",
    "        report = self.full_report()\n",
    "        self.report = report\n",
    "        \n",
    "    def browsers(self):\n",
    "        \"\"\"Отчет по браузерам\"\"\"\n",
    "        self.metrics = 'ym:s:visits'\n",
    "        self.dimensions = 'ym:s:date, ym:s:browser'\n",
    "        \n",
    "        report = self.full_report()\n",
    "        self.report = report\n",
    "        \n",
    "    def reformat_api_report(self):\n",
    "        \"\"\"Упрощение отчета до списка\"\"\"\n",
    "        reformated_report = []\n",
    "        \n",
    "        for line in self.report:\n",
    "            dimensions = [x['name'] for x in line['dimensions']]\n",
    "            reformated_report.append(dimensions + line['metrics'])\n",
    "\n",
    "            \n",
    "        self.report = reformated_report\n",
    "        \n",
    "    def full_report(self):\n",
    "        \"\"\"Постраничная выгрузка из Метрики\"\"\"\n",
    "        full_data = []\n",
    "        offset = 1\n",
    "        \n",
    "        while True:\n",
    "            print('Starting offset {}'.format(offset)) \n",
    "            data = self.api_request(offset=offset)\n",
    "            full_data += data\n",
    "\n",
    "            offset += self.limit\n",
    "            if not data or len(data) < self.limit:\n",
    "                break\n",
    "            \n",
    "        return full_data"
   ]
  },
  {
   "cell_type": "code",
   "execution_count": 84,
   "id": "dc0f1396",
   "metadata": {},
   "outputs": [],
   "source": [
    "m = Metrika(start_date='2023-01-01', end_date='2023-01-14')"
   ]
  },
  {
   "cell_type": "code",
   "execution_count": 85,
   "id": "9a023e0a",
   "metadata": {},
   "outputs": [
    {
     "name": "stdout",
     "output_type": "stream",
     "text": [
      "Starting offset 1\n",
      "Starting offset 6\n",
      "Starting offset 11\n"
     ]
    }
   ],
   "source": [
    "m.traffic()"
   ]
  },
  {
   "cell_type": "code",
   "execution_count": 86,
   "id": "60bd0543",
   "metadata": {},
   "outputs": [
    {
     "data": {
      "text/plain": [
       "[{'dimensions': [{'name': '2023-01-11'}], 'metrics': [910.0]},\n",
       " {'dimensions': [{'name': '2023-01-12'}], 'metrics': [839.0]},\n",
       " {'dimensions': [{'name': '2023-01-10'}], 'metrics': [836.0]},\n",
       " {'dimensions': [{'name': '2023-01-09'}], 'metrics': [797.0]},\n",
       " {'dimensions': [{'name': '2023-01-13'}], 'metrics': [767.0]},\n",
       " {'dimensions': [{'name': '2023-01-05'}], 'metrics': [521.0]},\n",
       " {'dimensions': [{'name': '2023-01-04'}], 'metrics': [512.0]},\n",
       " {'dimensions': [{'name': '2023-01-03'}], 'metrics': [476.0]},\n",
       " {'dimensions': [{'name': '2023-01-14'}], 'metrics': [439.0]},\n",
       " {'dimensions': [{'name': '2023-01-06'}], 'metrics': [433.0]},\n",
       " {'dimensions': [{'name': '2023-01-07'}], 'metrics': [432.0]},\n",
       " {'dimensions': [{'name': '2023-01-08'}], 'metrics': [418.0]},\n",
       " {'dimensions': [{'name': '2023-01-02'}], 'metrics': [395.0]},\n",
       " {'dimensions': [{'name': '2023-01-01'}], 'metrics': [246.0]}]"
      ]
     },
     "execution_count": 86,
     "metadata": {},
     "output_type": "execute_result"
    }
   ],
   "source": [
    "m.report"
   ]
  },
  {
   "cell_type": "code",
   "execution_count": 87,
   "id": "262cc32d",
   "metadata": {},
   "outputs": [
    {
     "data": {
      "text/plain": [
       "[['2023-01-11', 910.0],\n",
       " ['2023-01-12', 839.0],\n",
       " ['2023-01-10', 836.0],\n",
       " ['2023-01-09', 797.0],\n",
       " ['2023-01-13', 767.0],\n",
       " ['2023-01-05', 521.0],\n",
       " ['2023-01-04', 512.0],\n",
       " ['2023-01-03', 476.0],\n",
       " ['2023-01-14', 439.0],\n",
       " ['2023-01-06', 433.0],\n",
       " ['2023-01-07', 432.0],\n",
       " ['2023-01-08', 418.0],\n",
       " ['2023-01-02', 395.0],\n",
       " ['2023-01-01', 246.0]]"
      ]
     },
     "execution_count": 87,
     "metadata": {},
     "output_type": "execute_result"
    }
   ],
   "source": [
    "m.reformat_api_report()\n",
    "m.report"
   ]
  },
  {
   "cell_type": "code",
   "execution_count": 88,
   "id": "38a83bd2",
   "metadata": {},
   "outputs": [
    {
     "name": "stdout",
     "output_type": "stream",
     "text": [
      "Starting offset 1\n",
      "Starting offset 6\n",
      "Starting offset 11\n",
      "Starting offset 16\n",
      "Starting offset 21\n",
      "Starting offset 26\n",
      "Starting offset 31\n",
      "Starting offset 36\n",
      "Starting offset 41\n",
      "Starting offset 46\n",
      "Starting offset 51\n",
      "Starting offset 56\n",
      "Starting offset 61\n",
      "Starting offset 66\n",
      "Starting offset 71\n",
      "Starting offset 76\n",
      "Starting offset 81\n",
      "Starting offset 86\n",
      "Starting offset 91\n",
      "Starting offset 96\n",
      "Starting offset 101\n",
      "Starting offset 106\n",
      "Starting offset 111\n",
      "Starting offset 116\n",
      "Starting offset 121\n",
      "Starting offset 126\n",
      "Starting offset 131\n",
      "Starting offset 136\n",
      "Starting offset 141\n",
      "Starting offset 146\n",
      "Starting offset 151\n",
      "Starting offset 156\n",
      "Starting offset 161\n",
      "Starting offset 166\n",
      "Starting offset 171\n",
      "Starting offset 176\n",
      "Starting offset 181\n",
      "Starting offset 186\n",
      "Starting offset 191\n",
      "Starting offset 196\n",
      "Starting offset 201\n",
      "Starting offset 206\n",
      "Starting offset 211\n",
      "Starting offset 216\n",
      "Starting offset 221\n",
      "Starting offset 226\n",
      "Starting offset 231\n",
      "Starting offset 236\n",
      "Starting offset 241\n"
     ]
    },
    {
     "data": {
      "text/plain": [
       "[['2023-01-11', 'Google Chrome', 374.0],\n",
       " ['2023-01-12', 'Google Chrome', 340.0],\n",
       " ['2023-01-09', 'Google Chrome', 320.0],\n",
       " ['2023-01-10', 'Google Chrome', 319.0],\n",
       " ['2023-01-13', 'Google Chrome', 304.0],\n",
       " ['2023-01-05', 'Google Chrome', 202.0],\n",
       " ['2023-01-04', 'Google Chrome', 183.0],\n",
       " ['2023-01-03', 'Google Chrome', 177.0],\n",
       " ['2023-01-12', 'Яндекс.Браузер', 162.0],\n",
       " ['2023-01-09', 'Chrome Mobile', 160.0],\n",
       " ['2023-01-10', 'Chrome Mobile', 157.0],\n",
       " ['2023-01-13', 'Chrome Mobile', 157.0],\n",
       " ['2023-01-08', 'Chrome Mobile', 154.0],\n",
       " ['2023-01-11', 'Яндекс.Браузер', 152.0],\n",
       " ['2023-01-04', 'Chrome Mobile', 151.0],\n",
       " ['2023-01-07', 'Chrome Mobile', 149.0],\n",
       " ['2023-01-14', 'Chrome Mobile', 149.0],\n",
       " ['2023-01-05', 'Chrome Mobile', 144.0],\n",
       " ['2023-01-10', 'Яндекс.Браузер', 136.0],\n",
       " ['2023-01-11', 'Chrome Mobile', 136.0],\n",
       " ['2023-01-06', 'Chrome Mobile', 135.0],\n",
       " ['2023-01-02', 'Google Chrome', 134.0],\n",
       " ['2023-01-03', 'Chrome Mobile', 133.0],\n",
       " ['2023-01-01', 'Chrome Mobile', 132.0],\n",
       " ['2023-01-06', 'Google Chrome', 128.0],\n",
       " ['2023-01-08', 'Google Chrome', 124.0],\n",
       " ['2023-01-12', 'Chrome Mobile', 123.0],\n",
       " ['2023-01-13', 'Яндекс.Браузер', 122.0],\n",
       " ['2023-01-02', 'Chrome Mobile', 119.0],\n",
       " ['2023-01-07', 'Google Chrome', 113.0],\n",
       " ['2023-01-14', 'Google Chrome', 110.0],\n",
       " ['2023-01-09', 'Яндекс.Браузер', 107.0],\n",
       " ['2023-01-10', 'Safari', 68.0],\n",
       " ['2023-01-04', 'Яндекс.Браузер', 65.0],\n",
       " ['2023-01-14', 'Яндекс.Браузер', 62.0],\n",
       " ['2023-01-07', 'Яндекс.Браузер', 58.0],\n",
       " ['2023-01-11', 'Edge', 58.0],\n",
       " ['2023-01-09', 'Safari', 57.0],\n",
       " ['2023-01-05', 'Яндекс.Браузер', 55.0],\n",
       " ['2023-01-06', 'Яндекс.Браузер', 55.0],\n",
       " ['2023-01-11', 'Safari', 54.0],\n",
       " ['2023-01-08', 'Яндекс.Браузер', 49.0],\n",
       " ['2023-01-12', 'Safari', 49.0],\n",
       " ['2023-01-12', 'Edge', 49.0],\n",
       " ['2023-01-02', 'Яндекс.Браузер', 48.0],\n",
       " ['2023-01-01', 'Google Chrome', 47.0],\n",
       " ['2023-01-10', 'Edge', 46.0],\n",
       " ['2023-01-09', 'Firefox', 45.0],\n",
       " ['2023-01-13', 'Edge', 43.0],\n",
       " ['2023-01-03', 'Яндекс.Браузер', 42.0],\n",
       " ['2023-01-09', 'Edge', 42.0],\n",
       " ['2023-01-13', 'Firefox', 42.0],\n",
       " ['2023-01-11', 'Opera', 40.0],\n",
       " ['2023-01-11', 'Firefox', 40.0],\n",
       " ['2023-01-13', 'Safari', 40.0],\n",
       " ['2023-01-10', 'Firefox', 36.0],\n",
       " ['2023-01-12', 'Opera', 34.0],\n",
       " ['2023-01-14', 'Safari', 30.0],\n",
       " ['2023-01-12', 'Firefox', 29.0],\n",
       " ['2023-01-06', 'Safari', 27.0],\n",
       " ['2023-01-10', 'Opera', 27.0],\n",
       " ['2023-01-03', 'Safari', 26.0],\n",
       " ['2023-01-03', 'Firefox', 24.0],\n",
       " ['2023-01-07', 'Mobile Safari', 24.0],\n",
       " ['2023-01-12', 'Mobile Safari', 23.0],\n",
       " ['2023-01-05', 'Edge', 22.0],\n",
       " ['2023-01-07', 'Safari', 22.0],\n",
       " ['2023-01-08', 'Mobile Safari', 22.0],\n",
       " ['2023-01-04', 'Firefox', 21.0],\n",
       " ['2023-01-06', 'Edge', 21.0],\n",
       " ['2023-01-05', 'Firefox', 20.0],\n",
       " ['2023-01-05', 'Safari', 20.0],\n",
       " ['2023-01-02', 'Firefox', 19.0],\n",
       " ['2023-01-02', 'Safari', 19.0],\n",
       " ['2023-01-04', 'Safari', 19.0],\n",
       " ['2023-01-11', 'Mobile Safari', 19.0],\n",
       " ['2023-01-06', 'Samsung Internet', 18.0],\n",
       " ['2023-01-13', 'Opera', 18.0],\n",
       " ['2023-01-03', 'Edge', 17.0],\n",
       " ['2023-01-06', 'Firefox', 17.0],\n",
       " ['2023-01-07', 'Firefox', 17.0],\n",
       " ['2023-01-13', 'Mobile Safari', 17.0],\n",
       " ['2023-01-07', 'Edge', 16.0],\n",
       " ['2023-01-08', 'Safari', 16.0],\n",
       " ['2023-01-09', 'Opera', 16.0],\n",
       " ['2023-01-09', 'Mobile Safari', 16.0],\n",
       " ['2023-01-14', 'Firefox', 16.0],\n",
       " ['2023-01-01', 'Яндекс.Браузер', 15.0],\n",
       " ['2023-01-02', 'Edge', 15.0],\n",
       " ['2023-01-04', 'Opera', 15.0],\n",
       " ['2023-01-04', 'Edge', 15.0],\n",
       " ['2023-01-14', 'Edge', 15.0],\n",
       " ['2023-01-14', 'Samsung Internet', 15.0],\n",
       " ['2023-01-03', 'Opera', 14.0],\n",
       " ['2023-01-04', 'Mobile Safari', 14.0],\n",
       " ['2023-01-05', 'Mobile Safari', 14.0],\n",
       " ['2023-01-08', 'Firefox', 14.0],\n",
       " ['2023-01-10', 'Mobile Safari', 14.0],\n",
       " ['2023-01-14', 'Mobile Safari', 14.0],\n",
       " ['2023-01-03', 'Mobile Safari', 13.0],\n",
       " ['2023-01-04', 'Samsung Internet', 12.0],\n",
       " ['2023-01-06', 'Mobile Safari', 12.0],\n",
       " ['2023-01-02', 'Mobile Safari', 11.0],\n",
       " ['2023-01-10', 'Samsung Internet', 11.0],\n",
       " ['2023-01-05', 'Opera', 10.0],\n",
       " ['2023-01-07', 'Opera', 10.0],\n",
       " ['2023-01-08', 'Opera', 10.0],\n",
       " ['2023-01-08', 'Edge', 10.0],\n",
       " ['2023-01-07', 'Samsung Internet', 9.0],\n",
       " ['2023-01-11', 'Samsung Internet', 9.0],\n",
       " ['2023-01-13', 'Samsung Internet', 9.0],\n",
       " ['2023-01-14', 'Opera', 9.0],\n",
       " ['2023-01-01', 'Edge', 8.0],\n",
       " ['2023-01-02', 'Samsung Internet', 8.0],\n",
       " ['2023-01-03', 'Samsung Internet', 8.0],\n",
       " ['2023-01-05', 'Android Browser', 8.0],\n",
       " ['2023-01-06', 'Opera', 8.0],\n",
       " ['2023-01-12', 'Samsung Internet', 8.0],\n",
       " ['2023-01-01', 'Mobile Safari', 7.0],\n",
       " ['2023-01-09', 'Яндекс Старт: мобильное приложение', 7.0],\n",
       " ['2023-01-09', 'Samsung Internet', 7.0],\n",
       " ['2023-01-12', 'UCWEB', 7.0],\n",
       " ['2023-01-01', 'Safari', 6.0],\n",
       " ['2023-01-02', 'Opera', 6.0],\n",
       " ['2023-01-03', 'MIUI', 6.0],\n",
       " ['2023-01-05', 'Samsung Internet', 6.0],\n",
       " ['2023-01-10', 'Яндекс Старт: мобильное приложение', 6.0],\n",
       " ['2023-01-11', 'UCWEB', 6.0],\n",
       " ['2023-01-01', 'Firefox', 5.0],\n",
       " ['2023-01-01', 'MIUI', 5.0],\n",
       " ['2023-01-02', 'Яндекс Старт: мобильное приложение', 5.0],\n",
       " ['2023-01-05', 'UCWEB', 5.0],\n",
       " ['2023-01-08', 'Samsung Internet', 5.0],\n",
       " ['2023-01-09', 'UCWEB', 5.0],\n",
       " ['2023-01-11', 'Яндекс Старт: мобильное приложение', 5.0],\n",
       " ['2023-01-01', 'Яндекс Старт: мобильное приложение', 4.0],\n",
       " ['2023-01-02', 'Opera Mobile', 4.0],\n",
       " ['2023-01-02', 'Android Browser', 4.0],\n",
       " ['2023-01-04', 'Opera Mobile', 4.0],\n",
       " ['2023-01-05', 'MIUI', 4.0],\n",
       " ['2023-01-06', 'Android Browser', 4.0],\n",
       " ['2023-01-08', 'MIUI', 4.0],\n",
       " ['2023-01-09', 'Opera Mobile', 4.0],\n",
       " ['2023-01-10', 'Android Browser', 4.0],\n",
       " ['2023-01-11', 'Opera Mobile', 4.0],\n",
       " ['2023-01-12', 'Atom', 4.0],\n",
       " ['2023-01-13', 'UCWEB', 4.0],\n",
       " ['2023-01-14', 'Android Browser', 4.0],\n",
       " ['2023-01-14', 'Яндекс Старт: мобильное приложение', 4.0],\n",
       " ['2023-01-01', 'UCWEB', 3.0],\n",
       " ['2023-01-01', 'Android Browser', 3.0],\n",
       " ['2023-01-01', 'Samsung Internet', 3.0],\n",
       " ['2023-01-03', 'UCWEB', 3.0],\n",
       " ['2023-01-03', 'Android Browser', 3.0],\n",
       " ['2023-01-03', 'Atom', 3.0],\n",
       " ['2023-01-05', 'Opera Mobile', 3.0],\n",
       " ['2023-01-05', 'Firefox Mobile', 3.0],\n",
       " ['2023-01-07', 'UCWEB', 3.0],\n",
       " ['2023-01-07', 'Android Browser', 3.0],\n",
       " ['2023-01-07', 'Яндекс Старт: мобильное приложение', 3.0],\n",
       " ['2023-01-09', 'MIUI', 3.0],\n",
       " ['2023-01-10', 'Opera Mobile', 3.0],\n",
       " ['2023-01-10', 'MIUI', 3.0],\n",
       " ['2023-01-12', 'Android Browser', 3.0],\n",
       " ['2023-01-13', 'Яндекс Старт: мобильное приложение', 3.0],\n",
       " ['2023-01-13', 'Atom', 3.0],\n",
       " ['2023-01-14', 'UCWEB', 3.0],\n",
       " ['2023-01-01', 'Firefox Mobile', 2.0],\n",
       " ['2023-01-02', 'UCWEB', 2.0],\n",
       " ['2023-01-03', 'Opera Mobile', 2.0],\n",
       " ['2023-01-03', 'Яндекс Старт: мобильное приложение', 2.0],\n",
       " ['2023-01-03', 'Huawei Browser', 2.0],\n",
       " ['2023-01-04', 'Android Browser', 2.0],\n",
       " ['2023-01-04', 'Яндекс Старт: мобильное приложение', 2.0],\n",
       " ['2023-01-04', 'Google: мобильное приложение', 2.0],\n",
       " ['2023-01-04', 'Huawei Browser', 2.0],\n",
       " ['2023-01-04', 'HeadlessChrome', 2.0],\n",
       " ['2023-01-05', 'Яндекс Старт: мобильное приложение', 2.0],\n",
       " ['2023-01-05', 'Huawei Browser', 2.0],\n",
       " ['2023-01-06', 'Opera Mobile', 2.0],\n",
       " ['2023-01-06', 'HeadlessChrome', 2.0],\n",
       " ['2023-01-07', 'Opera Mobile', 2.0],\n",
       " ['2023-01-07', 'MIUI', 2.0],\n",
       " ['2023-01-08', 'Opera Mobile', 2.0],\n",
       " ['2023-01-08', 'Android Browser', 2.0],\n",
       " ['2023-01-08', 'Яндекс Старт: мобильное приложение', 2.0],\n",
       " ['2023-01-09', 'Android Browser', 2.0],\n",
       " ['2023-01-09', 'Google: мобильное приложение', 2.0],\n",
       " ['2023-01-09', 'Huawei Browser', 2.0],\n",
       " ['2023-01-10', 'Firefox Mobile', 2.0],\n",
       " ['2023-01-10', 'Huawei Browser', 2.0],\n",
       " ['2023-01-11', 'Firefox Mobile', 2.0],\n",
       " ['2023-01-11', 'Google: мобильное приложение', 2.0],\n",
       " ['2023-01-11', 'Atom', 2.0],\n",
       " ['2023-01-12', 'Opera Mobile', 2.0],\n",
       " ['2023-01-12', 'Firefox Mobile', 2.0],\n",
       " ['2023-01-12', 'Google: мобильное приложение', 2.0],\n",
       " ['2023-01-13', 'MIUI', 2.0],\n",
       " ['2023-01-14', 'Opera Mobile', 2.0],\n",
       " ['2023-01-14', 'Huawei Browser', 2.0],\n",
       " ['2023-01-01', 'Opera Mini', 1.0],\n",
       " ['2023-01-01', 'Opera', 1.0],\n",
       " ['2023-01-01', 'Tizen', 1.0],\n",
       " ['2023-01-01', 'MQQBrowser', 1.0],\n",
       " ['2023-01-01', 'Atom', 1.0],\n",
       " ['2023-01-01', 'Huawei Browser', 1.0],\n",
       " ['2023-01-02', 'MIUI', 1.0],\n",
       " ['2023-01-03', 'Opera Mini', 1.0],\n",
       " ['2023-01-04', 'MQQBrowser', 1.0],\n",
       " ['2023-01-04', 'MIUI', 1.0],\n",
       " ['2023-01-04', 'Atom', 1.0],\n",
       " ['2023-01-05', 'Google: мобильное приложение', 1.0],\n",
       " ['2023-01-06', 'UCWEB', 1.0],\n",
       " ['2023-01-06', 'Firefox Mobile', 1.0],\n",
       " ['2023-01-06', 'Puffin', 1.0],\n",
       " ['2023-01-06', 'Яндекс Старт: мобильное приложение', 1.0],\n",
       " ['2023-01-07', 'Huawei Browser', 1.0],\n",
       " ['2023-01-08', 'UCWEB', 1.0],\n",
       " ['2023-01-08', 'Atom', 1.0],\n",
       " ['2023-01-08', 'Huawei Browser', 1.0],\n",
       " ['2023-01-08', 'Яндекс с Алисой: мобильное приложение', 1.0],\n",
       " ['2023-01-09', 'Яндекс.Браузер lite', 1.0],\n",
       " ['2023-01-09', 'HeadlessChrome', 1.0],\n",
       " ['2023-01-10', 'UCWEB', 1.0],\n",
       " ['2023-01-10', 'Atom', 1.0],\n",
       " ['2023-01-11', 'MSIE', 1.0],\n",
       " ['2023-01-11', 'Android Browser', 1.0],\n",
       " ['2023-01-11', 'MIUI', 1.0],\n",
       " ['2023-01-11', 'Яндекс.Браузер lite', 1.0],\n",
       " ['2023-01-11', 'Huawei Browser', 1.0],\n",
       " ['2023-01-11', 'HeadlessChrome', 1.0],\n",
       " ['2023-01-11', 'Яндекс с Алисой: мобильное приложение', 1.0],\n",
       " ['2023-01-12', 'Яндекс Старт: мобильное приложение', 1.0],\n",
       " ['2023-01-12', 'Huawei Browser', 1.0],\n",
       " ['2023-01-13', 'Opera Mobile', 1.0],\n",
       " ['2023-01-13', 'Android Browser', 1.0],\n",
       " ['2023-01-13', 'Huawei Browser', 1.0],\n",
       " ['2023-01-14', 'Opera Mini', 1.0],\n",
       " ['2023-01-14', 'WebKit, другие', 1.0],\n",
       " ['2023-01-14', 'Chromium', 1.0],\n",
       " ['2023-01-14', 'HeadlessChrome', 1.0]]"
      ]
     },
     "execution_count": 88,
     "metadata": {},
     "output_type": "execute_result"
    }
   ],
   "source": [
    "m.browsers()\n",
    "m.reformat_api_report()\n",
    "m.report"
   ]
  },
  {
   "cell_type": "code",
   "execution_count": null,
   "id": "fede5fe9",
   "metadata": {},
   "outputs": [],
   "source": []
  },
  {
   "cell_type": "code",
   "execution_count": null,
   "id": "5992a303",
   "metadata": {},
   "outputs": [],
   "source": []
  }
 ],
 "metadata": {
  "kernelspec": {
   "display_name": "Python 3 (ipykernel)",
   "language": "python",
   "name": "python3"
  },
  "language_info": {
   "codemirror_mode": {
    "name": "ipython",
    "version": 3
   },
   "file_extension": ".py",
   "mimetype": "text/x-python",
   "name": "python",
   "nbconvert_exporter": "python",
   "pygments_lexer": "ipython3",
   "version": "3.11.5"
  }
 },
 "nbformat": 4,
 "nbformat_minor": 5
}
