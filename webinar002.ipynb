{
 "cells": [
  {
   "cell_type": "markdown",
   "id": "eeb0509a",
   "metadata": {},
   "source": [
    "### Строки\n",
    "- подстрока в строке\n",
    "- форрматы и f-строки"
   ]
  },
  {
   "cell_type": "code",
   "execution_count": 1,
   "id": "fb695428",
   "metadata": {},
   "outputs": [],
   "source": [
    "text = 'Каждый охотник желает знать где сидит фазан'"
   ]
  },
  {
   "cell_type": "code",
   "execution_count": 2,
   "id": "b7e5c901",
   "metadata": {},
   "outputs": [
    {
     "data": {
      "text/plain": [
       "'Каждый охотник желает знать где сидит фазан'"
      ]
     },
     "execution_count": 2,
     "metadata": {},
     "output_type": "execute_result"
    }
   ],
   "source": [
    "text"
   ]
  },
  {
   "cell_type": "code",
   "execution_count": 3,
   "id": "8dad303b",
   "metadata": {},
   "outputs": [
    {
     "data": {
      "text/plain": [
       "str"
      ]
     },
     "execution_count": 3,
     "metadata": {},
     "output_type": "execute_result"
    }
   ],
   "source": [
    "type(text)"
   ]
  },
  {
   "cell_type": "markdown",
   "id": "bf5ab417",
   "metadata": {},
   "source": [
    "Есть ли подстрока в text?"
   ]
  },
  {
   "cell_type": "code",
   "execution_count": 4,
   "id": "52e4ba0e",
   "metadata": {},
   "outputs": [
    {
     "data": {
      "text/plain": [
       "True"
      ]
     },
     "execution_count": 4,
     "metadata": {},
     "output_type": "execute_result"
    }
   ],
   "source": [
    "'охотник' in text"
   ]
  },
  {
   "cell_type": "code",
   "execution_count": 5,
   "id": "56747d09",
   "metadata": {},
   "outputs": [
    {
     "data": {
      "text/plain": [
       "False"
      ]
     },
     "execution_count": 5,
     "metadata": {},
     "output_type": "execute_result"
    }
   ],
   "source": [
    "'охотник не желает знать' in text"
   ]
  },
  {
   "cell_type": "code",
   "execution_count": 6,
   "id": "d53be589",
   "metadata": {},
   "outputs": [
    {
     "data": {
      "text/plain": [
       "7"
      ]
     },
     "execution_count": 6,
     "metadata": {},
     "output_type": "execute_result"
    }
   ],
   "source": [
    "text.find('охотник')"
   ]
  },
  {
   "cell_type": "code",
   "execution_count": 7,
   "id": "5fd52245",
   "metadata": {},
   "outputs": [
    {
     "data": {
      "text/plain": [
       "-1"
      ]
     },
     "execution_count": 7,
     "metadata": {},
     "output_type": "execute_result"
    }
   ],
   "source": [
    "text.find('охотника нет')"
   ]
  },
  {
   "cell_type": "code",
   "execution_count": 8,
   "id": "e7e0514e",
   "metadata": {},
   "outputs": [
    {
     "data": {
      "text/plain": [
       "'результат 100 один 3.14 два'"
      ]
     },
     "execution_count": 8,
     "metadata": {},
     "output_type": "execute_result"
    }
   ],
   "source": [
    "res = 3.14156\n",
    "\n",
    "'результат {1} один {0:0.02f} два'.format(res, 100)"
   ]
  },
  {
   "cell_type": "code",
   "execution_count": 9,
   "id": "67cee444",
   "metadata": {},
   "outputs": [
    {
     "data": {
      "text/plain": [
       "'результат 100 один 3.14 два'"
      ]
     },
     "execution_count": 9,
     "metadata": {},
     "output_type": "execute_result"
    }
   ],
   "source": [
    "f'результат {100} один {res:0.2f} два'"
   ]
  },
  {
   "cell_type": "code",
   "execution_count": 10,
   "id": "d9f80f99",
   "metadata": {},
   "outputs": [
    {
     "data": {
      "text/plain": [
       "'Каждый охотник желает знать где сидит фазан'"
      ]
     },
     "execution_count": 10,
     "metadata": {},
     "output_type": "execute_result"
    }
   ],
   "source": [
    "text"
   ]
  },
  {
   "cell_type": "code",
   "execution_count": 11,
   "id": "a038f819",
   "metadata": {},
   "outputs": [
    {
     "data": {
      "text/plain": [
       "'К'"
      ]
     },
     "execution_count": 11,
     "metadata": {},
     "output_type": "execute_result"
    }
   ],
   "source": [
    "text[0]"
   ]
  },
  {
   "cell_type": "code",
   "execution_count": 12,
   "id": "debf35db",
   "metadata": {},
   "outputs": [
    {
     "data": {
      "text/plain": [
       "'Каждый'"
      ]
     },
     "execution_count": 12,
     "metadata": {},
     "output_type": "execute_result"
    }
   ],
   "source": [
    "text[0:6]"
   ]
  },
  {
   "cell_type": "code",
   "execution_count": 13,
   "id": "1f6e9857",
   "metadata": {},
   "outputs": [
    {
     "data": {
      "text/plain": [
       "'Кжы'"
      ]
     },
     "execution_count": 13,
     "metadata": {},
     "output_type": "execute_result"
    }
   ],
   "source": [
    "text[0:6:2]"
   ]
  },
  {
   "cell_type": "markdown",
   "id": "4304b494",
   "metadata": {},
   "source": [
    "### Индекс элемента в списке"
   ]
  },
  {
   "cell_type": "code",
   "execution_count": 14,
   "id": "41d50d53",
   "metadata": {},
   "outputs": [],
   "source": [
    "data = range(0, 30, 3)"
   ]
  },
  {
   "cell_type": "code",
   "execution_count": 18,
   "id": "e73c6ca6",
   "metadata": {},
   "outputs": [
    {
     "name": "stdout",
     "output_type": "stream",
     "text": [
      "idx 0 el 0\n",
      "idx 1 el 3\n",
      "idx 2 el 6\n",
      "idx 3 el 9\n",
      "idx 4 el 12\n",
      "idx 5 el 15\n",
      "idx 6 el 18\n",
      "idx 7 el 21\n",
      "idx 8 el 24\n",
      "idx 9 el 27\n"
     ]
    }
   ],
   "source": [
    "i = 0\n",
    "for item in data:\n",
    "    print('idx', i, 'el', item)\n",
    "    i += 1"
   ]
  },
  {
   "cell_type": "code",
   "execution_count": 19,
   "id": "a0ceadb4",
   "metadata": {},
   "outputs": [
    {
     "name": "stdout",
     "output_type": "stream",
     "text": [
      "0 0\n",
      "1 3\n",
      "2 6\n",
      "3 9\n",
      "4 12\n",
      "5 15\n",
      "6 18\n",
      "7 21\n",
      "8 24\n",
      "9 27\n"
     ]
    }
   ],
   "source": [
    "for i in range(len(data)):\n",
    "    print(i, data[i])"
   ]
  },
  {
   "cell_type": "code",
   "execution_count": 20,
   "id": "88110656",
   "metadata": {},
   "outputs": [
    {
     "name": "stdout",
     "output_type": "stream",
     "text": [
      "0 0\n",
      "1 3\n",
      "2 6\n",
      "3 9\n",
      "4 12\n",
      "5 15\n",
      "6 18\n",
      "7 21\n",
      "8 24\n",
      "9 27\n"
     ]
    }
   ],
   "source": [
    "for i, item in enumerate(data):\n",
    "    print(i, item)"
   ]
  },
  {
   "cell_type": "markdown",
   "id": "6882b9d9",
   "metadata": {},
   "source": [
    "### Цикл while\n",
    "Мы не знаем наверняка сколько шагов нужно"
   ]
  },
  {
   "cell_type": "code",
   "execution_count": 22,
   "id": "32ac4a02",
   "metadata": {},
   "outputs": [
    {
     "name": "stdout",
     "output_type": "stream",
     "text": [
      "0\n",
      "1\n",
      "2\n",
      "3\n",
      "4\n",
      "5\n",
      "6\n",
      "7\n",
      "8\n",
      "9\n"
     ]
    }
   ],
   "source": [
    "for i in range(0, 10):\n",
    "    print(i)"
   ]
  },
  {
   "cell_type": "code",
   "execution_count": 24,
   "id": "10c41773",
   "metadata": {},
   "outputs": [
    {
     "name": "stdout",
     "output_type": "stream",
     "text": [
      "0\n",
      "1\n",
      "2\n",
      "3\n",
      "4\n",
      "5\n",
      "6\n",
      "7\n",
      "8\n",
      "9\n",
      "10\n"
     ]
    }
   ],
   "source": [
    "i = 0\n",
    "\n",
    "while True:\n",
    "    print(i)\n",
    "    i += 1\n",
    "    if i > 10:\n",
    "        break"
   ]
  },
  {
   "cell_type": "markdown",
   "id": "ad0003c3",
   "metadata": {},
   "source": [
    "### Угадай число"
   ]
  },
  {
   "cell_type": "code",
   "execution_count": 25,
   "id": "a4692368",
   "metadata": {},
   "outputs": [],
   "source": [
    "import random"
   ]
  },
  {
   "cell_type": "code",
   "execution_count": 26,
   "id": "307ffea7",
   "metadata": {},
   "outputs": [
    {
     "data": {
      "text/plain": [
       "0.7982992755619318"
      ]
     },
     "execution_count": 26,
     "metadata": {},
     "output_type": "execute_result"
    }
   ],
   "source": [
    "random.random()"
   ]
  },
  {
   "cell_type": "code",
   "execution_count": 27,
   "id": "61db1e16",
   "metadata": {},
   "outputs": [],
   "source": [
    "guess_number = random.randint(0, 100)"
   ]
  },
  {
   "cell_type": "code",
   "execution_count": 31,
   "id": "a700d3bc",
   "metadata": {},
   "outputs": [
    {
     "name": "stdout",
     "output_type": "stream",
     "text": [
      "Enter the number: 50\n",
      "Secret number is less\n",
      "Enter the number: 25\n",
      "Secret number is greater\n",
      "Enter the number: 37\n",
      "Secret number is less\n",
      "Enter the number: 31\n",
      "Secret number is greater\n",
      "Enter the number: 33\n",
      "You win!\n"
     ]
    }
   ],
   "source": [
    "while True:\n",
    "    input_number = int(input('Enter the number: '))\n",
    "    if input_number == guess_number:\n",
    "        print('You win!')\n",
    "        break\n",
    "    if input_number > guess_number:\n",
    "        print('Secret number is less')\n",
    "    else:\n",
    "        print('Secret number is greater')        "
   ]
  },
  {
   "cell_type": "code",
   "execution_count": null,
   "id": "1f3e7a5b",
   "metadata": {},
   "outputs": [],
   "source": []
  }
 ],
 "metadata": {
  "kernelspec": {
   "display_name": "Python 3 (ipykernel)",
   "language": "python",
   "name": "python3"
  },
  "language_info": {
   "codemirror_mode": {
    "name": "ipython",
    "version": 3
   },
   "file_extension": ".py",
   "mimetype": "text/x-python",
   "name": "python",
   "nbconvert_exporter": "python",
   "pygments_lexer": "ipython3",
   "version": "3.11.5"
  }
 },
 "nbformat": 4,
 "nbformat_minor": 5
}
