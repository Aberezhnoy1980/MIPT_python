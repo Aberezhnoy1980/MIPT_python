{
 "cells": [
  {
   "cell_type": "markdown",
   "id": "af61c6f4",
   "metadata": {},
   "source": [
    "### Задание 1\n",
    "Дана переменная, в которой хранится четырёхзначное число (год). Необходимо написать программу, которая выведет, является этот год високосным или обычным."
   ]
  },
  {
   "cell_type": "code",
   "execution_count": 14,
   "id": "7a42bb7f",
   "metadata": {},
   "outputs": [],
   "source": [
    "year = 2020"
   ]
  },
  {
   "cell_type": "code",
   "execution_count": 15,
   "id": "1bf2fa3c",
   "metadata": {},
   "outputs": [
    {
     "name": "stdout",
     "output_type": "stream",
     "text": [
      "Високосный год\n"
     ]
    }
   ],
   "source": [
    "# проверка на високосность \n",
    "\n",
    "if (year % 4 == 0 or year % 400 == 0) and year % 100 != 0:\n",
    "    print('Високосный год')\n",
    "else:\n",
    "    print('Обычный год')"
   ]
  },
  {
   "cell_type": "markdown",
   "id": "aa6b72b9",
   "metadata": {},
   "source": [
    "### Задание 2\n",
    "Дана переменная, в которой хранится шестизначное число (номер проездного билета). Напишите программу, которая будет определять, является ли этот билет счастливым. Билет считается счастливым, если сумма первых трёх цифр совпадает с суммой последних трёх цифр номера."
   ]
  },
  {
   "cell_type": "code",
   "execution_count": 22,
   "id": "543577af",
   "metadata": {},
   "outputs": [],
   "source": [
    "number = 456554"
   ]
  },
  {
   "cell_type": "code",
   "execution_count": 23,
   "id": "0780a165",
   "metadata": {},
   "outputs": [
    {
     "name": "stdout",
     "output_type": "stream",
     "text": [
      "Несчастливый билет\n"
     ]
    }
   ],
   "source": [
    "left_digits = number // 1000\n",
    "right_digits = number % 1000\n",
    "\n",
    "if (right_digits // 100 \n",
    "    + right_digits % 10 \n",
    "    + right_digits // 10 % 10) == (left_digits // 100 \n",
    "    + left_digits % 10 \n",
    "    + left_digits // 10 % 10):\n",
    "    print('Счастливый билет')\n",
    "else:\n",
    "    print('Несчастливый билет')"
   ]
  }
 ],
 "metadata": {
  "kernelspec": {
   "display_name": "Python 3 (ipykernel)",
   "language": "python",
   "name": "python3"
  },
  "language_info": {
   "codemirror_mode": {
    "name": "ipython",
    "version": 3
   },
   "file_extension": ".py",
   "mimetype": "text/x-python",
   "name": "python",
   "nbconvert_exporter": "python",
   "pygments_lexer": "ipython3",
   "version": "3.11.5"
  }
 },
 "nbformat": 4,
 "nbformat_minor": 5
}
