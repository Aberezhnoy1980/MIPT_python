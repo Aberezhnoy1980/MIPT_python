{
 "cells": [
  {
   "cell_type": "markdown",
   "id": "5b4fe344",
   "metadata": {},
   "source": [
    "### Задание 1\n",
    "Напишите код, который возвращает название валюты (поле Name) с максимальным значением курса с помощью сервиса: <https://www.cbr-xml-daily.ru/daily_json.js>"
   ]
  },
  {
   "cell_type": "code",
   "execution_count": null,
   "id": "db1cf611",
   "metadata": {},
   "outputs": [],
   "source": [
    "import requests"
   ]
  },
  {
   "cell_type": "code",
   "execution_count": null,
   "id": "f87adecb",
   "metadata": {},
   "outputs": [],
   "source": [
    "class Rate:\n",
    "    def __init__(self):\n",
    "        self.rates = requests.get('https://www.cbr-xml-daily.ru/daily_json.js').json()['Valute']\n",
    "        self.max_rate = 0\n",
    "        self.max_name = ''\n",
    "        \n",
    "    def get_max_name(self):\n",
    "        for value in self.rates.values():\n",
    "            if value['Value'] > self.max_rate:\n",
    "                if value['Name'] != 'СДР (специальные права заимствования)':\n",
    "                    self.max_rate = value['Value']\n",
    "                    self.max_name = value['Name']\n",
    "        \n",
    "        print(self.max_name)"
   ]
  },
  {
   "cell_type": "code",
   "execution_count": null,
   "id": "a50dbced",
   "metadata": {},
   "outputs": [],
   "source": [
    "r = Rate()\n",
    "r.get_max_name()"
   ]
  },
  {
   "cell_type": "code",
   "execution_count": null,
   "id": "9494b32d",
   "metadata": {},
   "outputs": [],
   "source": [
    "def print_():\n",
    "    for v in requests.get('https://www.cbr-xml-daily.ru/daily_json.js').json()['Valute'].values():\n",
    "        print(v['Name'], v['Value'], v['Previous'], v['Value'] - v['Previous'])"
   ]
  },
  {
   "cell_type": "code",
   "execution_count": null,
   "id": "34ff8a64",
   "metadata": {},
   "outputs": [],
   "source": [
    "print_()"
   ]
  },
  {
   "cell_type": "markdown",
   "id": "94291368",
   "metadata": {},
   "source": [
    "### Задание 2\n",
    "Добавьте в класс Rate параметр diff (со значениями True или False), который, в случае значения True в методах курсов валют (eur, usd и т. д.), будет возвращать не курс валюты, а изменение по сравнению с прошлым значением. Считайте, что значение diff=True параметр будет принимать только при возврате значения курса (format_=‘value’). При отображении всей информации о валюте (format_=‘full’) он не используется."
   ]
  },
  {
   "cell_type": "code",
   "execution_count": null,
   "id": "cc7c877e",
   "metadata": {},
   "outputs": [],
   "source": [
    "class Rate:\n",
    "    def __init__(self, format_='value', diff=False):\n",
    "        self.format = format_\n",
    "        self.diff = diff\n",
    "    \n",
    "    def exchange_rates(self):\n",
    "        self.r = requests.get('https://www.cbr-xml-daily.ru/daily_json.js')\n",
    "        return self.r.json()['Valute']\n",
    "    \n",
    "    def make_format(self, currency):\n",
    "        response = self.exchange_rates()\n",
    "        \n",
    "        if currency in response:\n",
    "            if self.format == 'full':\n",
    "                return response[currency]\n",
    "            \n",
    "            if self.format == 'value':\n",
    "                if self.diff == True:\n",
    "                    return response[currency]['Value'] - response[currency]['Previous']\n",
    "                return response[currency]['Value']\n",
    "        \n",
    "        return 'Error'\n",
    "    \n",
    "    def currency(self, currency):\n",
    "        return self.make_format(currency.upper())"
   ]
  },
  {
   "cell_type": "code",
   "execution_count": null,
   "id": "f61f832e",
   "metadata": {},
   "outputs": [],
   "source": [
    "r = Rate(diff=True)\n",
    "\n",
    "r.currency('Eur')"
   ]
  }
 ],
 "metadata": {
  "kernelspec": {
   "display_name": "Python 3 (ipykernel)",
   "language": "python",
   "name": "python3"
  },
  "language_info": {
   "codemirror_mode": {
    "name": "ipython",
    "version": 3
   },
   "file_extension": ".py",
   "mimetype": "text/x-python",
   "name": "python",
   "nbconvert_exporter": "python",
   "pygments_lexer": "ipython3",
   "version": "3.11.5"
  }
 },
 "nbformat": 4,
 "nbformat_minor": 5
}
