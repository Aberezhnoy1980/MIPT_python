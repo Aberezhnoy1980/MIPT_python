{
 "cells": [
  {
   "cell_type": "markdown",
   "id": "edd88a8b",
   "metadata": {},
   "source": [
    "### Задание 1\n",
    "Напишите функцию, которая принимает на вход строку и проверяет, является ли она валидным транспортным номером (1 буква, 3 цифры, 2 буквы, 2–3 цифры). Обратите внимание, что не все буквы кириллического алфавита используются в транспортных номерах."
   ]
  },
  {
   "cell_type": "code",
   "execution_count": null,
   "id": "68dbc4d4",
   "metadata": {},
   "outputs": [],
   "source": [
    "import re"
   ]
  },
  {
   "cell_type": "code",
   "execution_count": null,
   "id": "26011663",
   "metadata": {},
   "outputs": [],
   "source": [
    "# А, В, Е, К, М, Н, О, Р, С, Т, У, Х\n",
    "\n",
    "car_id = \"A222BC96\""
   ]
  },
  {
   "cell_type": "code",
   "execution_count": null,
   "id": "ec5c6646",
   "metadata": {},
   "outputs": [],
   "source": [
    "def check_number(car_id):\n",
    "    number = ''.join(re.findall('[АВЕКМНОРСТУХABEKMHOPCTYX]{1}\\d{3}[АВЕКМНОРСТУХABEKMHOPCTYX]{2}\\d{2,3}', car_id))\n",
    "    region = ''.join(re.findall('\\d{2,3}$', number))\n",
    "    \n",
    "    print(f'{number} валиден. Регион {region}.' if number else 'Номер не валиден.')"
   ]
  },
  {
   "cell_type": "code",
   "execution_count": null,
   "id": "f5ba4ba0",
   "metadata": {},
   "outputs": [],
   "source": [
    "check_number(car_id)"
   ]
  },
  {
   "cell_type": "code",
   "execution_count": null,
   "id": "ade10e72",
   "metadata": {},
   "outputs": [],
   "source": [
    "car_id = \"АБ22ВВ193\"\n",
    "\n",
    "check_number(car_id)"
   ]
  },
  {
   "cell_type": "code",
   "execution_count": null,
   "id": "5c27a3e6",
   "metadata": {},
   "outputs": [],
   "source": [
    "car_id = \"А221ВВ193\"\n",
    "\n",
    "check_number(car_id)"
   ]
  },
  {
   "cell_type": "markdown",
   "id": "a7970d10",
   "metadata": {},
   "source": [
    "### Задание 2 \n",
    "Напишите функцию, которая будет удалять все последовательные повторы слов из заданной строки при помощи регулярных выражений."
   ]
  },
  {
   "cell_type": "code",
   "execution_count": null,
   "id": "2b171bc2",
   "metadata": {},
   "outputs": [],
   "source": [
    "some_string = \"Напишите функцию функцию, которая будет будет будет будет удалять все \\\n",
    "все все все последовательные повторы слов из из из из заданной строки строки при помощи регулярных выражений\""
   ]
  },
  {
   "cell_type": "code",
   "execution_count": null,
   "id": "d7de78a8",
   "metadata": {},
   "outputs": [],
   "source": [
    "def modify_string(text):\n",
    "    pattern = r'(\\w+)(\\s+\\1)+'\n",
    "    return re.sub(pattern, r'\\1', text)"
   ]
  },
  {
   "cell_type": "code",
   "execution_count": null,
   "id": "fd32be8a",
   "metadata": {},
   "outputs": [],
   "source": [
    "print(modify_string(some_string))"
   ]
  }
 ],
 "metadata": {
  "kernelspec": {
   "display_name": "Python 3 (ipykernel)",
   "language": "python",
   "name": "python3"
  },
  "language_info": {
   "codemirror_mode": {
    "name": "ipython",
    "version": 3
   },
   "file_extension": ".py",
   "mimetype": "text/x-python",
   "name": "python",
   "nbconvert_exporter": "python",
   "pygments_lexer": "ipython3",
   "version": "3.11.5"
  }
 },
 "nbformat": 4,
 "nbformat_minor": 5
}
