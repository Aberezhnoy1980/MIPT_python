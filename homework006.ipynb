{
 "cells": [
  {
   "cell_type": "markdown",
   "id": "4b50835b",
   "metadata": {},
   "source": [
    "### Заданиие 1\n",
    "Печатные газеты использовали свой формат дат для каждого выпуска. Для каждой газеты из списка напишите формат указанной даты для перевода в объект datetime:\n",
    "\n",
    "`The Moscow Times - Wednesday, October 2, 2002`\n",
    "\n",
    "`The Guardian - Friday, 11.10.13`\n",
    "\n",
    "`Daily News - Thursday, 18 August 1977`"
   ]
  },
  {
   "cell_type": "code",
   "execution_count": 1,
   "id": "9b27d201",
   "metadata": {},
   "outputs": [],
   "source": [
    "from datetime import datetime"
   ]
  },
  {
   "cell_type": "code",
   "execution_count": 2,
   "id": "e27018be",
   "metadata": {},
   "outputs": [
    {
     "name": "stdout",
     "output_type": "stream",
     "text": [
      "2002-10-02 00:00:00 <class 'datetime.datetime'>\n"
     ]
    }
   ],
   "source": [
    "mt_format = '%A, %B %d, %Y'\n",
    "moscow_time_dt = datetime.strptime('Wednesday, October 2, 2002', mt_format)\n",
    "\n",
    "\n",
    "print(moscow_time_dt, type(moscow_time_dt))"
   ]
  },
  {
   "cell_type": "code",
   "execution_count": 3,
   "id": "e636a6e5",
   "metadata": {},
   "outputs": [
    {
     "name": "stdout",
     "output_type": "stream",
     "text": [
      "Wednesday, October 02, 2002 <class 'str'>\n"
     ]
    }
   ],
   "source": [
    "mt_format = '%A, %B %d, %Y'\n",
    "\n",
    "\n",
    "moscow_time_str = moscow_time_dt.strftime(mt_format)\n",
    "print(moscow_time_str, type(moscow_time_str))"
   ]
  },
  {
   "cell_type": "code",
   "execution_count": 4,
   "id": "8c0c5e1b",
   "metadata": {},
   "outputs": [
    {
     "name": "stdout",
     "output_type": "stream",
     "text": [
      "2013-10-11 00:00:00 <class 'datetime.datetime'>\n"
     ]
    }
   ],
   "source": [
    "g_format = 'Friday, 11.10.13'\n",
    "dt_exp = '%A, %d.%m.%y'\n",
    "g_dt = datetime.strptime(g_format, dt_exp)\n",
    "\n",
    "\n",
    "print(g_dt, type(g_dt))"
   ]
  },
  {
   "cell_type": "code",
   "execution_count": 5,
   "id": "226519de",
   "metadata": {},
   "outputs": [
    {
     "name": "stdout",
     "output_type": "stream",
     "text": [
      "Friday, 11.10.13 <class 'str'>\n"
     ]
    }
   ],
   "source": [
    "dt_exp = '%A, %d.%m.%y'\n",
    "g_str = g_dt.strftime(dt_exp)\n",
    "\n",
    "\n",
    "print(g_str, type(g_str))"
   ]
  },
  {
   "cell_type": "code",
   "execution_count": 6,
   "id": "16b10d0e",
   "metadata": {},
   "outputs": [
    {
     "name": "stdout",
     "output_type": "stream",
     "text": [
      "1977-08-18 00:00:00 <class 'datetime.datetime'>\n"
     ]
    }
   ],
   "source": [
    "dn_format = 'Thursday, 18 August 1977'\n",
    "dt_exp = '%A, %d %B %Y'\n",
    "dn_dt = datetime.strptime(dn_format, dt_exp)\n",
    "\n",
    "\n",
    "print(dn_dt, type(dn_dt))"
   ]
  },
  {
   "cell_type": "code",
   "execution_count": 7,
   "id": "2cf47f9d",
   "metadata": {},
   "outputs": [
    {
     "name": "stdout",
     "output_type": "stream",
     "text": [
      "Thursday, 18 August 1977 <class 'str'>\n"
     ]
    }
   ],
   "source": [
    "dt_exp = '%A, %d %B %Y'\n",
    "dn_str = dn_dt.strftime(dt_exp)\n",
    "\n",
    "\n",
    "print(dn_str, type(dn_str))"
   ]
  },
  {
   "cell_type": "markdown",
   "id": "1a13c6a9",
   "metadata": {},
   "source": [
    "### Задание 2\n",
    "Напишите функцию date_range, которая возвращает список дат за период от start_date до end_date. Даты должны вводиться в формате YYYY-MM-DD. В случае неверного формата или при start_date > end_date должен возвращаться пустой список.\n",
    "\n",
    "Примеры работы программы при выводе первых трех строк файла funnel.csv:\n",
    "\n",
    "date_range(‘2022-01-01’, ‘2022-01-03’)\n",
    "\n",
    "[‘2022-01-01’, ‘2022-01-02’, ‘2022-01-03’]"
   ]
  },
  {
   "cell_type": "code",
   "execution_count": 8,
   "id": "d506eba7",
   "metadata": {},
   "outputs": [],
   "source": [
    "from datetime import timedelta"
   ]
  },
  {
   "cell_type": "code",
   "execution_count": 9,
   "id": "f1fa61d8",
   "metadata": {},
   "outputs": [
    {
     "name": "stdout",
     "output_type": "stream",
     "text": [
      "Enter the start date wit format YYYY-MM-DD: \n",
      "Enter the start date wit format YYYY-MM-DD: \n"
     ]
    }
   ],
   "source": [
    "start_date_str = input('Enter the start date wit format YYYY-MM-DD: ')\n",
    "end_date_str = input('Enter the start date wit format YYYY-MM-DD: ')"
   ]
  },
  {
   "cell_type": "code",
   "execution_count": 10,
   "id": "286353ec",
   "metadata": {},
   "outputs": [],
   "source": [
    "dt_format = '%Y-%m-%d'"
   ]
  },
  {
   "cell_type": "code",
   "execution_count": 11,
   "id": "867a3b7b",
   "metadata": {},
   "outputs": [],
   "source": [
    "def date_range(start_date_str, end_date_str):\n",
    "    date_list = []\n",
    "    try:\n",
    "        start_date_dt = datetime.strptime(start_date_str, dt_format)\n",
    "        end_date_dt = datetime.strptime(end_date_str, dt_format)\n",
    "        \n",
    "        current_date = start_date_dt\n",
    "        while current_date <= end_date_dt:\n",
    "            date_list.append(current_date)\n",
    "\n",
    "            current_date += timedelta(days=1)\n",
    "            \n",
    "    except ValueError:\n",
    "        print(\"Unconverted value\")\n",
    "        date_list\n",
    "        \n",
    "    return date_list"
   ]
  },
  {
   "cell_type": "code",
   "execution_count": 12,
   "id": "0a9335a4",
   "metadata": {},
   "outputs": [
    {
     "name": "stdout",
     "output_type": "stream",
     "text": [
      "Unconverted value\n"
     ]
    },
    {
     "data": {
      "text/plain": [
       "[]"
      ]
     },
     "execution_count": 12,
     "metadata": {},
     "output_type": "execute_result"
    }
   ],
   "source": [
    "date_range(start_date_str, end_date_str)"
   ]
  },
  {
   "cell_type": "markdown",
   "id": "50a020db",
   "metadata": {},
   "source": [
    "## End"
   ]
  }
 ],
 "metadata": {
  "kernelspec": {
   "display_name": "Python 3 (ipykernel)",
   "language": "python",
   "name": "python3"
  },
  "language_info": {
   "codemirror_mode": {
    "name": "ipython",
    "version": 3
   },
   "file_extension": ".py",
   "mimetype": "text/x-python",
   "name": "python",
   "nbconvert_exporter": "python",
   "pygments_lexer": "ipython3",
   "version": "3.11.5"
  }
 },
 "nbformat": 4,
 "nbformat_minor": 5
}
