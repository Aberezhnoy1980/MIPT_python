{
 "cells": [
  {
   "cell_type": "markdown",
   "id": "778e1656",
   "metadata": {},
   "source": [
    "## Задание 1\n",
    "С помощью python смоделировать игру против лотерейного автомата типа «777». \n",
    "Игрок платит 1 руб., после чего выпадает случайное целое число, равномерно распределённое от 0 до 999. \n",
    "При некоторых значениях числа игрок получает выигрыш:\n",
    "777: 200 руб.\n",
    "999: 100 руб.\n",
    "555: 50 руб.\n",
    "333: 15 руб.\n",
    "111: 10 руб.\n",
    "*77: 5 руб.\n",
    "**7: 3 руб.\n",
    "*00: 2 руб.\n",
    "**0: 1 руб.\n",
    "(* — любая цифра)\n",
    "Выгодна ли игра игроку? \n",
    "Сколько в среднем приобретает или теряет игрок за одну игру?"
   ]
  },
  {
   "cell_type": "code",
   "execution_count": null,
   "id": "aa7595bf",
   "metadata": {},
   "outputs": [],
   "source": [
    "import numpy as np"
   ]
  },
  {
   "cell_type": "code",
   "execution_count": null,
   "id": "dfae837e",
   "metadata": {},
   "outputs": [],
   "source": [
    "trials = 1000000\n",
    "result = 0\n",
    "results_list = []\n",
    "\n",
    "for i in range(trials):\n",
    "    random_score = np.random.randint(0, 1000)\n",
    "    if random_score == 999:\n",
    "        results_list.append(100)\n",
    "    elif random_score == 777:\n",
    "        results_list.append(200)\n",
    "    elif random_score == 555:\n",
    "        results_list.append(50)\n",
    "    elif random_score == 333:\n",
    "        results_list.append(15)\n",
    "    elif random_score == 111:\n",
    "        results_list.append(10)\n",
    "    elif random_score % 100 == 77:\n",
    "        results_list.append(5)\n",
    "    elif random_score % 10 == 7:\n",
    "        results_list.append(3)    \n",
    "    elif random_score % 100 == 0:\n",
    "        results_list.append(2)\n",
    "    elif random_score % 10 == 0:\n",
    "        results_list.append(1)\n",
    "    else:\n",
    "        None\n",
    "        result += 1\n",
    "\n",
    "profit = sum(results_list) - trials\n",
    "if profit > 0:\n",
    "    print('Игра выгодна. Выигрыш составляет:', profit, 'руб. c', trials, 'руб.')\n",
    "else:\n",
    "    print('Игра не выгодна. Проигрыш составляет:', profit, 'руб. c', trials, 'руб.')     "
   ]
  },
  {
   "cell_type": "code",
   "execution_count": null,
   "id": "3ac964ec",
   "metadata": {},
   "outputs": [],
   "source": []
  }
 ],
 "metadata": {
  "kernelspec": {
   "display_name": "Python 3 (ipykernel)",
   "language": "python",
   "name": "python3"
  },
  "language_info": {
   "codemirror_mode": {
    "name": "ipython",
    "version": 3
   },
   "file_extension": ".py",
   "mimetype": "text/x-python",
   "name": "python",
   "nbconvert_exporter": "python",
   "pygments_lexer": "ipython3",
   "version": "3.11.5"
  }
 },
 "nbformat": 4,
 "nbformat_minor": 5
}
