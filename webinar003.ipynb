{
 "cells": [
  {
   "cell_type": "markdown",
   "id": "4db0d430",
   "metadata": {},
   "source": [
    "### Practice 3\n",
    "Напишем программу для проверки логина и пароля \n",
    "1) логин и пароль пользователя хранится в переменной\n",
    "2) буддем давать пользователю к попыток на вводд логина и пароля \n",
    "3) если после трех попыток верного ввода не было, то заблокируем вход - вывестити на экран сообщение \"Вход\n",
    "заблокирован\"\n",
    "4) если пароль и логин были введены верноБ то вывести на экран сообщение \"Добро пожаловать!\""
   ]
  },
  {
   "cell_type": "code",
   "execution_count": 1,
   "id": "e8b1df05",
   "metadata": {},
   "outputs": [],
   "source": [
    "correct_login = 'admin'\n",
    "correct_password = 'admin'"
   ]
  },
  {
   "cell_type": "code",
   "execution_count": 4,
   "id": "f25fba26",
   "metadata": {},
   "outputs": [
    {
     "name": "stdout",
     "output_type": "stream",
     "text": [
      "Enter a login: qwe\n",
      "Enter a passwordqwe\n",
      "Enter a login: qwe\n",
      "Enter a passwordqwe\n",
      "Enter a login: qwwe\n",
      "Enter a passwordqw\n",
      "Enter is blocked\n"
     ]
    }
   ],
   "source": [
    "flag = False\n",
    "\n",
    "for step in range(3):\n",
    "    login = input('Enter a login: ')\n",
    "    password = input('Enter a password')\n",
    "    \n",
    "    if login == correct_login and password == correct_password:\n",
    "        flag = True\n",
    "        break\n",
    "    \n",
    "if flag:\n",
    "    print('Welcome!')\n",
    "else:\n",
    "    print('Enter is blocked')"
   ]
  },
  {
   "cell_type": "markdown",
   "id": "cab00ae7",
   "metadata": {},
   "source": [
    "### Задача 2\n",
    "как можно \"разгладить\" список. Задачка на мышление.\n",
    "Должен получиться результат:\n",
    "\n",
    "`['Екатеринбург', 'Москва', 'Санкт-Петербург', 'Норильск', 'Пермь', 'Астрахань']`"
   ]
  },
  {
   "cell_type": "code",
   "execution_count": 6,
   "id": "e973fdcf",
   "metadata": {},
   "outputs": [
    {
     "data": {
      "text/plain": [
       "[['Екатеринбург', 'Москва'],\n",
       " ['Санкт-Петербург', 'Норильск'],\n",
       " ['Пермь', 'Астрахань']]"
      ]
     },
     "execution_count": 6,
     "metadata": {},
     "output_type": "execute_result"
    }
   ],
   "source": [
    "data = [['Екатеринбург', 'Москва'], ['Санкт-Петербург', 'Норильск'], ['Пермь', 'Астрахань']]\n",
    "data"
   ]
  },
  {
   "cell_type": "code",
   "execution_count": 9,
   "id": "cc465e69",
   "metadata": {},
   "outputs": [
    {
     "name": "stdout",
     "output_type": "stream",
     "text": [
      "['Екатеринбург', 'Москва', 'Санкт-Петербург', 'Норильск', 'Пермь', 'Астрахань']\n"
     ]
    }
   ],
   "source": [
    "total_list = []\n",
    "\n",
    "for cities_list in data:\n",
    "    total_list += cities_list\n",
    "    \n",
    "print(total_list)"
   ]
  },
  {
   "cell_type": "code",
   "execution_count": 10,
   "id": "1df78d9f",
   "metadata": {},
   "outputs": [],
   "source": [
    "from functools import reduce"
   ]
  },
  {
   "cell_type": "code",
   "execution_count": 11,
   "id": "5577c503",
   "metadata": {},
   "outputs": [
    {
     "data": {
      "text/plain": [
       "[['Екатеринбург', 'Москва'],\n",
       " ['Санкт-Петербург', 'Норильск'],\n",
       " ['Пермь', 'Астрахань']]"
      ]
     },
     "execution_count": 11,
     "metadata": {},
     "output_type": "execute_result"
    }
   ],
   "source": [
    "data"
   ]
  },
  {
   "cell_type": "code",
   "execution_count": 12,
   "id": "9827768e",
   "metadata": {},
   "outputs": [
    {
     "data": {
      "text/plain": [
       "['Екатеринбург', 'Москва', 'Санкт-Петербург', 'Норильск', 'Пермь', 'Астрахань']"
      ]
     },
     "execution_count": 12,
     "metadata": {},
     "output_type": "execute_result"
    }
   ],
   "source": [
    "reduce(lambda a, b: a + b, data)"
   ]
  },
  {
   "cell_type": "markdown",
   "id": "7899799a",
   "metadata": {},
   "source": [
    "### Задача 3\n",
    "Выведем информацию о странах и столицах в виде:\n",
    "\n",
    "`The capital of ... is ... `"
   ]
  },
  {
   "cell_type": "code",
   "execution_count": 13,
   "id": "860cd773",
   "metadata": {},
   "outputs": [],
   "source": [
    "europe = {'sapin': {'capital': 'madrid'},\n",
    "         'france': {'capital': 'paris'},\n",
    "         'germany': {'capital': 'berlin'},\n",
    "         'norway': {'capital': 'oslo'}}"
   ]
  },
  {
   "cell_type": "code",
   "execution_count": 14,
   "id": "ed81d929",
   "metadata": {},
   "outputs": [
    {
     "name": "stdout",
     "output_type": "stream",
     "text": [
      "sapin {'capital': 'madrid'}\n",
      "france {'capital': 'paris'}\n",
      "germany {'capital': 'berlin'}\n",
      "norway {'capital': 'oslo'}\n"
     ]
    }
   ],
   "source": [
    "for key in europe:\n",
    "    print(key, europe[key])"
   ]
  },
  {
   "cell_type": "code",
   "execution_count": 15,
   "id": "70f825a8",
   "metadata": {},
   "outputs": [
    {
     "name": "stdout",
     "output_type": "stream",
     "text": [
      "{'capital': 'madrid'}\n",
      "{'capital': 'paris'}\n",
      "{'capital': 'berlin'}\n",
      "{'capital': 'oslo'}\n"
     ]
    }
   ],
   "source": [
    "for value in europe.values():\n",
    "    print(value)"
   ]
  },
  {
   "cell_type": "code",
   "execution_count": null,
   "id": "d7764744",
   "metadata": {},
   "outputs": [],
   "source": []
  },
  {
   "cell_type": "code",
   "execution_count": 23,
   "id": "533b3245",
   "metadata": {},
   "outputs": [
    {
     "name": "stdout",
     "output_type": "stream",
     "text": [
      "The capital of sapin is madrid\n",
      "The capital of france is paris\n",
      "The capital of germany is berlin\n",
      "The capital of norway is oslo\n"
     ]
    }
   ],
   "source": [
    "for key, value in europe.items():\n",
    "    print(f'The capital of {key} is {value[\"capital\"]}')"
   ]
  },
  {
   "cell_type": "markdown",
   "id": "12da0ecb",
   "metadata": {},
   "source": [
    "### Задача 4\n",
    "Посчитаем средний возраст в коллективе"
   ]
  },
  {
   "cell_type": "code",
   "execution_count": 24,
   "id": "45a9fee6",
   "metadata": {},
   "outputs": [],
   "source": [
    "people = {1: {'name': 'Oleg', 'age': '29', 'sex': 'Male'},\n",
    "          2: {'name': 'Kate', 'age': '21', 'sex': 'Female'},\n",
    "          3: {'name': 'liza', 'age': '24', 'sex': 'Female'},\n",
    "          4: {'name': 'Pavel', 'age': '36', 'sex': 'Male'}}"
   ]
  },
  {
   "cell_type": "code",
   "execution_count": 31,
   "id": "c451074d",
   "metadata": {},
   "outputs": [
    {
     "name": "stdout",
     "output_type": "stream",
     "text": [
      "27.5\n"
     ]
    }
   ],
   "source": [
    "age_sum = 0\n",
    "\n",
    "for value in people.values():\n",
    "    age_sum += int(value['age'])\n",
    "    \n",
    "print(age_sum / len(people))"
   ]
  },
  {
   "cell_type": "code",
   "execution_count": 32,
   "id": "78008120",
   "metadata": {},
   "outputs": [
    {
     "data": {
      "text/plain": [
       "{1: {'name': 'Pavel', 'age': '36', 'sex': 'Male'},\n",
       " 2: {'name': 'Pavel', 'age': '36', 'sex': 'Male'},\n",
       " 3: {'name': 'Pavel', 'age': '36', 'sex': 'Male'},\n",
       " 4: {'name': 'Pavel', 'age': '36', 'sex': 'Male'}}"
      ]
     },
     "execution_count": 32,
     "metadata": {},
     "output_type": "execute_result"
    }
   ],
   "source": [
    "{key: value for key, vallue in people.items()}"
   ]
  },
  {
   "cell_type": "code",
   "execution_count": 33,
   "id": "6ca24ac0",
   "metadata": {},
   "outputs": [
    {
     "data": {
      "text/plain": [
       "{'Oleg': 29, 'Kate': 21, 'liza': 24, 'Pavel': 36}"
      ]
     },
     "execution_count": 33,
     "metadata": {},
     "output_type": "execute_result"
    }
   ],
   "source": [
    "{value['name']: int(value['age']) for key, value in people.items()}"
   ]
  },
  {
   "cell_type": "code",
   "execution_count": 35,
   "id": "4ada0627",
   "metadata": {},
   "outputs": [
    {
     "data": {
      "text/plain": [
       "27.5"
      ]
     },
     "execution_count": 35,
     "metadata": {},
     "output_type": "execute_result"
    }
   ],
   "source": [
    "sum([int(x['age']) for x in people.values()]) / len(people)"
   ]
  },
  {
   "cell_type": "markdown",
   "id": "38bbe490",
   "metadata": {},
   "source": [
    "### Задача 5\n",
    "Дан список с визитами по городам и странам. Наишем код, который возвращает отфильтрованный список\n",
    "`geo_logs`, содержащий только визиты из России."
   ]
  },
  {
   "cell_type": "code",
   "execution_count": 36,
   "id": "1eb6d758",
   "metadata": {},
   "outputs": [],
   "source": [
    "geo_logs = [\n",
    "    {'visit1': ['Москва', 'Россия']},\n",
    "    {'visit2': ['Дели', 'Индия']},\n",
    "    {'visit3': ['Владимир', 'Россия']},\n",
    "    {'visit4': ['Лиссабон', 'Португалия']},\n",
    "    {'visit5': ['Париж', 'Франция']},\n",
    "    {'visit7': ['Тула', 'Россия']},\n",
    "    {'visit9': ['Курск', 'Россия']},\n",
    "    {'visit10': ['Архангельск', 'Россия']}\n",
    "]"
   ]
  },
  {
   "cell_type": "code",
   "execution_count": 39,
   "id": "ff55378a",
   "metadata": {},
   "outputs": [
    {
     "data": {
      "text/plain": [
       "[{'visit1': ['Москва', 'Россия']},\n",
       " {'visit3': ['Владимир', 'Россия']},\n",
       " {'visit7': ['Тула', 'Россия']},\n",
       " {'visit9': ['Курск', 'Россия']},\n",
       " {'visit10': ['Архангельск', 'Россия']}]"
      ]
     },
     "execution_count": 39,
     "metadata": {},
     "output_type": "execute_result"
    }
   ],
   "source": [
    "filtered_geo_logs = []\n",
    "\n",
    "for record in geo_logs:\n",
    "    if record:\n",
    "        country = list(record.values())[0][1]\n",
    "        \n",
    "        if country == 'Россия':\n",
    "            filtered_geo_logs.append(record)\n",
    "            \n",
    "filtered_geo_logs"
   ]
  },
  {
   "cell_type": "code",
   "execution_count": null,
   "id": "28656c7a",
   "metadata": {},
   "outputs": [],
   "source": []
  }
 ],
 "metadata": {
  "kernelspec": {
   "display_name": "Python 3 (ipykernel)",
   "language": "python",
   "name": "python3"
  },
  "language_info": {
   "codemirror_mode": {
    "name": "ipython",
    "version": 3
   },
   "file_extension": ".py",
   "mimetype": "text/x-python",
   "name": "python",
   "nbconvert_exporter": "python",
   "pygments_lexer": "ipython3",
   "version": "3.11.5"
  }
 },
 "nbformat": 4,
 "nbformat_minor": 5
}
