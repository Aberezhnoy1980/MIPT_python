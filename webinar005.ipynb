{
 "cells": [
  {
   "cell_type": "markdown",
   "id": "2a066624",
   "metadata": {},
   "source": [
    "### Работа с файлами\n",
    "* Прочииттать файлы из другой папки\n",
    "* Пример группировки большого файла cards.csv\n",
    "* Сторки с запятыми\n",
    "* Формат JSON\n",
    "* Кодировки файлов\n",
    "* Проблемы с текстами"
   ]
  },
  {
   "cell_type": "code",
   "execution_count": 1,
   "id": "4eebf2c9",
   "metadata": {},
   "outputs": [],
   "source": [
    "import os"
   ]
  },
  {
   "cell_type": "code",
   "execution_count": 2,
   "id": "40190519",
   "metadata": {},
   "outputs": [
    {
     "data": {
      "text/plain": [
       "'logs/data/cards.csv'"
      ]
     },
     "execution_count": 2,
     "metadata": {},
     "output_type": "execute_result"
    }
   ],
   "source": [
    "os.path.join('logs', 'data', 'cards.csv')"
   ]
  },
  {
   "cell_type": "markdown",
   "id": "afcdcdf5",
   "metadata": {},
   "source": [
    "### Упражнение\n",
    "* Типичная задача на файл\n",
    "* Посчитать сколько раз каждая масть есть в файле\n",
    "* А если файл большой"
   ]
  },
  {
   "cell_type": "code",
   "execution_count": 23,
   "id": "bb9e3930",
   "metadata": {},
   "outputs": [
    {
     "name": "stdout",
     "output_type": "stream",
     "text": [
      "{'червы': 25020, 'пики': 24933, 'бубны': 24932, 'трефы': 25110, 'Пики': 1, 'крести': 1, 'Трефы': 3}\n"
     ]
    }
   ],
   "source": [
    "f = open('files/cards.csv', 'r')\n",
    "stats = {}\n",
    "\n",
    "for i, line in enumerate(f):\n",
    "    line = line.strip().split(',')\n",
    "    \n",
    "#     suit = line[0]\n",
    "#     value = line[1]\n",
    "    \n",
    "    suit, _ = line\n",
    "    \n",
    "    stats.setdefault(suit, 0)\n",
    "    stats[suit] += 1\n",
    "    \n",
    "#     print(suit, stats)\n",
    "    \n",
    "    \n",
    "#     if i > 5:\n",
    "#         break\n",
    "print(stats)"
   ]
  },
  {
   "cell_type": "code",
   "execution_count": 25,
   "id": "ff7b9ada",
   "metadata": {},
   "outputs": [
    {
     "name": "stdout",
     "output_type": "stream",
     "text": [
      "['keywords', 'date']\n",
      "['какая рыба вобла', '2023-06-01']\n",
      "['\"фильмы', ' мотивирующие на уборку\"', '2023-06-02']\n"
     ]
    }
   ],
   "source": [
    "with open('files/sample.csv') as f:\n",
    "    for line in f:\n",
    "        line = line.strip().split(',')\n",
    "        print(line)"
   ]
  },
  {
   "cell_type": "code",
   "execution_count": null,
   "id": "8b5ceb2e",
   "metadata": {},
   "outputs": [],
   "source": [
    "import csv"
   ]
  },
  {
   "cell_type": "code",
   "execution_count": 26,
   "id": "51308171",
   "metadata": {},
   "outputs": [
    {
     "name": "stdout",
     "output_type": "stream",
     "text": [
      "['keywords', 'date']\n",
      "['какая рыба вобла', '2023-06-01']\n",
      "['фильмы, мотивирующие на уборку', '2023-06-02']\n"
     ]
    }
   ],
   "source": [
    "with open('files/sample.csv') as f:\n",
    "    reader = csv.reader(f, delimiter=',')\n",
    "    \n",
    "    for line in reader:\n",
    "        print(line)"
   ]
  },
  {
   "cell_type": "markdown",
   "id": "42f1a0b0",
   "metadata": {},
   "source": [
    "### Домашнее задание\n",
    "**Задание 1**"
   ]
  },
  {
   "cell_type": "code",
   "execution_count": 22,
   "id": "3ba55761",
   "metadata": {},
   "outputs": [],
   "source": [
    "# for line in f:\n",
    "#     json.loads(line)"
   ]
  },
  {
   "cell_type": "markdown",
   "id": "b6961817",
   "metadata": {},
   "source": [
    "### Не делать поиск по словарю НИКОГДА циклом"
   ]
  },
  {
   "cell_type": "code",
   "execution_count": null,
   "id": "a913955f",
   "metadata": {},
   "outputs": [],
   "source": [
    "# if user_id in purchases:"
   ]
  }
 ],
 "metadata": {
  "kernelspec": {
   "display_name": "Python 3 (ipykernel)",
   "language": "python",
   "name": "python3"
  },
  "language_info": {
   "codemirror_mode": {
    "name": "ipython",
    "version": 3
   },
   "file_extension": ".py",
   "mimetype": "text/x-python",
   "name": "python",
   "nbconvert_exporter": "python",
   "pygments_lexer": "ipython3",
   "version": "3.11.5"
  }
 },
 "nbformat": 4,
 "nbformat_minor": 5
}
