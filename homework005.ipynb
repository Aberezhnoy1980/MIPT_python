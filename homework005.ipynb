{
 "cells": [
  {
   "cell_type": "markdown",
   "id": "946aa618",
   "metadata": {},
   "source": [
    "### Задание 1\n",
    "Переведите содержимое файла purchase_log.txt в словарь purchases вида:\n",
    "{‘1840e0b9d4’: ‘Продукты’, …}\n",
    "\n",
    "**Пример работы программы при выводе первых двух элементов словаря purchases:**\n",
    "\n",
    "`1840e0b9d4 ‘Продукты‘`\n",
    "\n",
    "`4e4f90fcfb  ‘Электроника‘`"
   ]
  },
  {
   "cell_type": "code",
   "execution_count": 1,
   "id": "f1e48ff2",
   "metadata": {},
   "outputs": [],
   "source": [
    "import json"
   ]
  },
  {
   "cell_type": "code",
   "execution_count": 2,
   "id": "ba16efc9",
   "metadata": {},
   "outputs": [],
   "source": [
    "f = open('files/purchase_log.txt')\n",
    "purchases = {}\n",
    "\n",
    "next(f)\n",
    "for i, line in enumerate(f):\n",
    "    dict_ = json.loads(line)\n",
    "    purchases[dict_['user_id']] = dict_['category']\n",
    "    "
   ]
  },
  {
   "cell_type": "code",
   "execution_count": 3,
   "id": "3c118b2e",
   "metadata": {},
   "outputs": [
    {
     "name": "stdout",
     "output_type": "stream",
     "text": [
      "1840e0b9d4 Продукты\n",
      "4e4f90fcfb Электроника\n"
     ]
    }
   ],
   "source": [
    "for i, item in enumerate(purchases.items()):\n",
    "    print(*item)\n",
    "    \n",
    "    if i == 1:\n",
    "        break\n",
    "    "
   ]
  },
  {
   "cell_type": "code",
   "execution_count": 4,
   "id": "42a3bc93",
   "metadata": {},
   "outputs": [],
   "source": [
    "f.close()"
   ]
  },
  {
   "cell_type": "markdown",
   "id": "d19f8cff",
   "metadata": {},
   "source": [
    "### Задание 2\n",
    "Для каждого user_id в файле visit_log.csv определите третий столбец с категорией покупки. Если покупка была, сам файл visit_log.csv изменять не надо.\n",
    "Запишите в файл funnel.csv визиты из файла visit_log.csv, в которых были покупки с указанием категории.\n",
    "\n",
    "**Примеры работы программы при выводе первых трёх строк файла funnel.csv:**\n",
    "\n",
    "\n",
    "`user_id,source,category`\n",
    "\n",
    "`1840e0b9d4,other,Продукты`\n",
    "\n",
    "`4e4f90fcfb,context,Электроника`"
   ]
  },
  {
   "cell_type": "code",
   "execution_count": 5,
   "id": "8ecaf674",
   "metadata": {},
   "outputs": [
    {
     "data": {
      "text/plain": [
       "24"
      ]
     },
     "execution_count": 5,
     "metadata": {},
     "output_type": "execute_result"
    }
   ],
   "source": [
    "fr = open('files/visit_log.csv')\n",
    "fw = open('files/funnel.csv', 'w', encoding='utf-8')\n",
    "\n",
    "fw.write('user_id,source,category\\n')"
   ]
  },
  {
   "cell_type": "code",
   "execution_count": 6,
   "id": "5f922cf2",
   "metadata": {},
   "outputs": [],
   "source": [
    "for i, line in enumerate(fr):\n",
    "    line = line.strip().split(',')\n",
    "    if line[0] in purchases:\n",
    "        fw.write(str(f'{line[0]},{line[1]},{purchases[line[0]]}' + '\\n'))    \n",
    "        \n",
    "    if i > 100:\n",
    "        break"
   ]
  },
  {
   "cell_type": "code",
   "execution_count": 7,
   "id": "bfb146f7",
   "metadata": {},
   "outputs": [],
   "source": [
    "fw.close()"
   ]
  },
  {
   "cell_type": "code",
   "execution_count": 8,
   "id": "19748187",
   "metadata": {},
   "outputs": [
    {
     "name": "stdout",
     "output_type": "stream",
     "text": [
      "user_id,source,category\n",
      "\n",
      "1840e0b9d4,other,Продукты\n",
      "\n",
      "4e4f90fcfb,context,Электроника\n",
      "\n"
     ]
    }
   ],
   "source": [
    "f = open('files/funnel.csv', 'r', encoding='utf-8')\n",
    "\n",
    "for i, line in enumerate(f):\n",
    "    print(line)\n",
    "    \n",
    "    if i > 1:\n",
    "        break"
   ]
  },
  {
   "cell_type": "code",
   "execution_count": null,
   "id": "dd726188",
   "metadata": {},
   "outputs": [],
   "source": []
  }
 ],
 "metadata": {
  "kernelspec": {
   "display_name": "Python 3 (ipykernel)",
   "language": "python",
   "name": "python3"
  },
  "language_info": {
   "codemirror_mode": {
    "name": "ipython",
    "version": 3
   },
   "file_extension": ".py",
   "mimetype": "text/x-python",
   "name": "python",
   "nbconvert_exporter": "python",
   "pygments_lexer": "ipython3",
   "version": "3.11.5"
  }
 },
 "nbformat": 4,
 "nbformat_minor": 5
}
